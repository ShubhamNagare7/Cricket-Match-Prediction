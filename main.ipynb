{
 "cells": [
  {
   "cell_type": "code",
   "execution_count": 1,
   "metadata": {
    "id": "o3zPZODn2UG2"
   },
   "outputs": [],
   "source": [
    "import numpy as np # linear algebra\n",
    "import pandas as pd # take CSV file"
   ]
  },
  {
   "cell_type": "code",
   "execution_count": 2,
   "metadata": {
    "colab": {
     "base_uri": "https://localhost:8080/",
     "height": 853
    },
    "id": "EUYI1_fZ2UHD",
    "outputId": "b84d00c4-0454-416e-a6b8-71f562fdbaaf"
   },
   "outputs": [
    {
     "name": "stdout",
     "output_type": "stream",
     "text": [
      "<class 'pandas.core.frame.DataFrame'>\n",
      "RangeIndex: 816 entries, 0 to 815\n",
      "Data columns (total 18 columns):\n",
      " #   Column           Non-Null Count  Dtype \n",
      "---  ------           --------------  ----- \n",
      " 0   id               816 non-null    int64 \n",
      " 1   season           816 non-null    int64 \n",
      " 2   city             809 non-null    object\n",
      " 3   date             816 non-null    object\n",
      " 4   team1            816 non-null    object\n",
      " 5   team2            816 non-null    object\n",
      " 6   toss_winner      816 non-null    object\n",
      " 7   toss_decision    816 non-null    object\n",
      " 8   result           816 non-null    object\n",
      " 9   dl_applied       816 non-null    int64 \n",
      " 10  winner           812 non-null    object\n",
      " 11  win_by_runs      816 non-null    int64 \n",
      " 12  win_by_wickets   816 non-null    int64 \n",
      " 13  player_of_match  812 non-null    object\n",
      " 14  venue            816 non-null    object\n",
      " 15  umpire1          814 non-null    object\n",
      " 16  umpire2          814 non-null    object\n",
      " 17  umpire3          179 non-null    object\n",
      "dtypes: int64(5), object(13)\n",
      "memory usage: 114.9+ KB\n"
     ]
    },
    {
     "data": {
      "text/html": [
       "<div>\n",
       "<style scoped>\n",
       "    .dataframe tbody tr th:only-of-type {\n",
       "        vertical-align: middle;\n",
       "    }\n",
       "\n",
       "    .dataframe tbody tr th {\n",
       "        vertical-align: top;\n",
       "    }\n",
       "\n",
       "    .dataframe thead th {\n",
       "        text-align: right;\n",
       "    }\n",
       "</style>\n",
       "<table border=\"1\" class=\"dataframe\">\n",
       "  <thead>\n",
       "    <tr style=\"text-align: right;\">\n",
       "      <th></th>\n",
       "      <th>id</th>\n",
       "      <th>season</th>\n",
       "      <th>city</th>\n",
       "      <th>date</th>\n",
       "      <th>team1</th>\n",
       "      <th>team2</th>\n",
       "      <th>toss_winner</th>\n",
       "      <th>toss_decision</th>\n",
       "      <th>result</th>\n",
       "      <th>dl_applied</th>\n",
       "      <th>winner</th>\n",
       "      <th>win_by_runs</th>\n",
       "      <th>win_by_wickets</th>\n",
       "      <th>player_of_match</th>\n",
       "      <th>venue</th>\n",
       "      <th>umpire1</th>\n",
       "      <th>umpire2</th>\n",
       "      <th>umpire3</th>\n",
       "    </tr>\n",
       "  </thead>\n",
       "  <tbody>\n",
       "    <tr>\n",
       "      <th>0</th>\n",
       "      <td>1</td>\n",
       "      <td>2008</td>\n",
       "      <td>Bangalore</td>\n",
       "      <td>18-04-2008</td>\n",
       "      <td>Kolkata Knight Riders</td>\n",
       "      <td>Royal Challengers Bangalore</td>\n",
       "      <td>Royal Challengers Bangalore</td>\n",
       "      <td>field</td>\n",
       "      <td>normal</td>\n",
       "      <td>0</td>\n",
       "      <td>Kolkata Knight Riders</td>\n",
       "      <td>140</td>\n",
       "      <td>0</td>\n",
       "      <td>BB McCullum</td>\n",
       "      <td>M Chinnaswamy Stadium</td>\n",
       "      <td>Asad Rauf</td>\n",
       "      <td>RE Koertzen</td>\n",
       "      <td>NaN</td>\n",
       "    </tr>\n",
       "    <tr>\n",
       "      <th>1</th>\n",
       "      <td>2</td>\n",
       "      <td>2008</td>\n",
       "      <td>Chandigarh</td>\n",
       "      <td>19-04-2008</td>\n",
       "      <td>Chennai Super Kings</td>\n",
       "      <td>Kings XI Punjab</td>\n",
       "      <td>Chennai Super Kings</td>\n",
       "      <td>bat</td>\n",
       "      <td>normal</td>\n",
       "      <td>0</td>\n",
       "      <td>Chennai Super Kings</td>\n",
       "      <td>33</td>\n",
       "      <td>0</td>\n",
       "      <td>MEK Hussey</td>\n",
       "      <td>Punjab Cricket Association Stadium, Mohali</td>\n",
       "      <td>MR Benson</td>\n",
       "      <td>SL Shastri</td>\n",
       "      <td>NaN</td>\n",
       "    </tr>\n",
       "    <tr>\n",
       "      <th>2</th>\n",
       "      <td>3</td>\n",
       "      <td>2008</td>\n",
       "      <td>Delhi</td>\n",
       "      <td>19-04-2008</td>\n",
       "      <td>Rajasthan Royals</td>\n",
       "      <td>Delhi Capitals</td>\n",
       "      <td>Rajasthan Royals</td>\n",
       "      <td>bat</td>\n",
       "      <td>normal</td>\n",
       "      <td>0</td>\n",
       "      <td>Delhi Capitals</td>\n",
       "      <td>0</td>\n",
       "      <td>9</td>\n",
       "      <td>MF Maharoof</td>\n",
       "      <td>Feroz Shah Kotla</td>\n",
       "      <td>Aleem Dar</td>\n",
       "      <td>GA Pratapkumar</td>\n",
       "      <td>NaN</td>\n",
       "    </tr>\n",
       "    <tr>\n",
       "      <th>3</th>\n",
       "      <td>4</td>\n",
       "      <td>2008</td>\n",
       "      <td>Mumbai</td>\n",
       "      <td>20-04-2008</td>\n",
       "      <td>Mumbai Indians</td>\n",
       "      <td>Royal Challengers Bangalore</td>\n",
       "      <td>Mumbai Indians</td>\n",
       "      <td>bat</td>\n",
       "      <td>normal</td>\n",
       "      <td>0</td>\n",
       "      <td>Royal Challengers Bangalore</td>\n",
       "      <td>0</td>\n",
       "      <td>5</td>\n",
       "      <td>MV Boucher</td>\n",
       "      <td>Wankhede Stadium</td>\n",
       "      <td>SJ Davis</td>\n",
       "      <td>DJ Harper</td>\n",
       "      <td>NaN</td>\n",
       "    </tr>\n",
       "    <tr>\n",
       "      <th>4</th>\n",
       "      <td>5</td>\n",
       "      <td>2008</td>\n",
       "      <td>Kolkata</td>\n",
       "      <td>20-04-2008</td>\n",
       "      <td>Deccan Chargers</td>\n",
       "      <td>Kolkata Knight Riders</td>\n",
       "      <td>Deccan Chargers</td>\n",
       "      <td>bat</td>\n",
       "      <td>normal</td>\n",
       "      <td>0</td>\n",
       "      <td>Kolkata Knight Riders</td>\n",
       "      <td>0</td>\n",
       "      <td>5</td>\n",
       "      <td>DJ Hussey</td>\n",
       "      <td>Eden Gardens</td>\n",
       "      <td>BF Bowden</td>\n",
       "      <td>K Hariharan</td>\n",
       "      <td>NaN</td>\n",
       "    </tr>\n",
       "  </tbody>\n",
       "</table>\n",
       "</div>"
      ],
      "text/plain": [
       "   id  season        city        date                  team1  \\\n",
       "0   1    2008   Bangalore  18-04-2008  Kolkata Knight Riders   \n",
       "1   2    2008  Chandigarh  19-04-2008    Chennai Super Kings   \n",
       "2   3    2008       Delhi  19-04-2008       Rajasthan Royals   \n",
       "3   4    2008      Mumbai  20-04-2008         Mumbai Indians   \n",
       "4   5    2008     Kolkata  20-04-2008        Deccan Chargers   \n",
       "\n",
       "                         team2                  toss_winner toss_decision  \\\n",
       "0  Royal Challengers Bangalore  Royal Challengers Bangalore         field   \n",
       "1              Kings XI Punjab          Chennai Super Kings           bat   \n",
       "2               Delhi Capitals             Rajasthan Royals           bat   \n",
       "3  Royal Challengers Bangalore               Mumbai Indians           bat   \n",
       "4        Kolkata Knight Riders              Deccan Chargers           bat   \n",
       "\n",
       "   result  dl_applied                       winner  win_by_runs  \\\n",
       "0  normal           0        Kolkata Knight Riders          140   \n",
       "1  normal           0          Chennai Super Kings           33   \n",
       "2  normal           0               Delhi Capitals            0   \n",
       "3  normal           0  Royal Challengers Bangalore            0   \n",
       "4  normal           0        Kolkata Knight Riders            0   \n",
       "\n",
       "   win_by_wickets player_of_match                                       venue  \\\n",
       "0               0     BB McCullum                       M Chinnaswamy Stadium   \n",
       "1               0      MEK Hussey  Punjab Cricket Association Stadium, Mohali   \n",
       "2               9     MF Maharoof                            Feroz Shah Kotla   \n",
       "3               5      MV Boucher                            Wankhede Stadium   \n",
       "4               5       DJ Hussey                                Eden Gardens   \n",
       "\n",
       "     umpire1         umpire2 umpire3  \n",
       "0  Asad Rauf     RE Koertzen     NaN  \n",
       "1  MR Benson      SL Shastri     NaN  \n",
       "2  Aleem Dar  GA Pratapkumar     NaN  \n",
       "3   SJ Davis       DJ Harper     NaN  \n",
       "4  BF Bowden     K Hariharan     NaN  "
      ]
     },
     "execution_count": 2,
     "metadata": {},
     "output_type": "execute_result"
    }
   ],
   "source": [
    "matches=pd.read_csv('matches.csv')\n",
    "matches.info()\n",
    "matches.head()"
   ]
  },
  {
   "cell_type": "code",
   "execution_count": 3,
   "metadata": {
    "colab": {
     "base_uri": "https://localhost:8080/",
     "height": 329
    },
    "id": "pRE_GQoP2UHG",
    "outputId": "6ff009b5-c2da-4217-f985-64ccdb6d8241"
   },
   "outputs": [
    {
     "data": {
      "text/html": [
       "<div>\n",
       "<style scoped>\n",
       "    .dataframe tbody tr th:only-of-type {\n",
       "        vertical-align: middle;\n",
       "    }\n",
       "\n",
       "    .dataframe tbody tr th {\n",
       "        vertical-align: top;\n",
       "    }\n",
       "\n",
       "    .dataframe thead th {\n",
       "        text-align: right;\n",
       "    }\n",
       "</style>\n",
       "<table border=\"1\" class=\"dataframe\">\n",
       "  <thead>\n",
       "    <tr style=\"text-align: right;\">\n",
       "      <th></th>\n",
       "      <th>id</th>\n",
       "      <th>season</th>\n",
       "      <th>city</th>\n",
       "      <th>date</th>\n",
       "      <th>team1</th>\n",
       "      <th>team2</th>\n",
       "      <th>toss_winner</th>\n",
       "      <th>toss_decision</th>\n",
       "      <th>result</th>\n",
       "      <th>dl_applied</th>\n",
       "      <th>winner</th>\n",
       "      <th>win_by_runs</th>\n",
       "      <th>win_by_wickets</th>\n",
       "      <th>player_of_match</th>\n",
       "      <th>venue</th>\n",
       "      <th>umpire1</th>\n",
       "      <th>umpire2</th>\n",
       "      <th>umpire3</th>\n",
       "    </tr>\n",
       "  </thead>\n",
       "  <tbody>\n",
       "    <tr>\n",
       "      <th>241</th>\n",
       "      <td>242</td>\n",
       "      <td>2011</td>\n",
       "      <td>Delhi</td>\n",
       "      <td>21-05-2011</td>\n",
       "      <td>Delhi Capitals</td>\n",
       "      <td>Pune Warriors</td>\n",
       "      <td>Delhi Capitals</td>\n",
       "      <td>bat</td>\n",
       "      <td>no result</td>\n",
       "      <td>0</td>\n",
       "      <td>NaN</td>\n",
       "      <td>0</td>\n",
       "      <td>0</td>\n",
       "      <td>NaN</td>\n",
       "      <td>Feroz Shah Kotla</td>\n",
       "      <td>SS Hazare</td>\n",
       "      <td>RJ Tucker</td>\n",
       "      <td>NaN</td>\n",
       "    </tr>\n",
       "    <tr>\n",
       "      <th>486</th>\n",
       "      <td>487</td>\n",
       "      <td>2015</td>\n",
       "      <td>Bangalore</td>\n",
       "      <td>29-04-2015</td>\n",
       "      <td>Royal Challengers Bangalore</td>\n",
       "      <td>Rajasthan Royals</td>\n",
       "      <td>Rajasthan Royals</td>\n",
       "      <td>field</td>\n",
       "      <td>no result</td>\n",
       "      <td>0</td>\n",
       "      <td>NaN</td>\n",
       "      <td>0</td>\n",
       "      <td>0</td>\n",
       "      <td>NaN</td>\n",
       "      <td>M Chinnaswamy Stadium</td>\n",
       "      <td>JD Cloete</td>\n",
       "      <td>PG Pathak</td>\n",
       "      <td>NaN</td>\n",
       "    </tr>\n",
       "    <tr>\n",
       "      <th>511</th>\n",
       "      <td>512</td>\n",
       "      <td>2015</td>\n",
       "      <td>Bangalore</td>\n",
       "      <td>17-05-2015</td>\n",
       "      <td>Delhi Capitals</td>\n",
       "      <td>Royal Challengers Bangalore</td>\n",
       "      <td>Royal Challengers Bangalore</td>\n",
       "      <td>field</td>\n",
       "      <td>no result</td>\n",
       "      <td>0</td>\n",
       "      <td>NaN</td>\n",
       "      <td>0</td>\n",
       "      <td>0</td>\n",
       "      <td>NaN</td>\n",
       "      <td>M Chinnaswamy Stadium</td>\n",
       "      <td>HDPK Dharmasena</td>\n",
       "      <td>K Srinivasan</td>\n",
       "      <td>NaN</td>\n",
       "    </tr>\n",
       "    <tr>\n",
       "      <th>744</th>\n",
       "      <td>745</td>\n",
       "      <td>2019</td>\n",
       "      <td>Bengaluru</td>\n",
       "      <td>30-04-2019</td>\n",
       "      <td>Royal Challengers Bangalore</td>\n",
       "      <td>Rajasthan Royals</td>\n",
       "      <td>Rajasthan Royals</td>\n",
       "      <td>field</td>\n",
       "      <td>no result</td>\n",
       "      <td>0</td>\n",
       "      <td>NaN</td>\n",
       "      <td>0</td>\n",
       "      <td>0</td>\n",
       "      <td>NaN</td>\n",
       "      <td>M. Chinnaswamy Stadium</td>\n",
       "      <td>Nigel Llong</td>\n",
       "      <td>Ulhas Gandhe</td>\n",
       "      <td>Anil Chaudhary</td>\n",
       "    </tr>\n",
       "  </tbody>\n",
       "</table>\n",
       "</div>"
      ],
      "text/plain": [
       "      id  season       city        date                        team1  \\\n",
       "241  242    2011      Delhi  21-05-2011               Delhi Capitals   \n",
       "486  487    2015  Bangalore  29-04-2015  Royal Challengers Bangalore   \n",
       "511  512    2015  Bangalore  17-05-2015               Delhi Capitals   \n",
       "744  745    2019  Bengaluru  30-04-2019  Royal Challengers Bangalore   \n",
       "\n",
       "                           team2                  toss_winner toss_decision  \\\n",
       "241                Pune Warriors               Delhi Capitals           bat   \n",
       "486             Rajasthan Royals             Rajasthan Royals         field   \n",
       "511  Royal Challengers Bangalore  Royal Challengers Bangalore         field   \n",
       "744             Rajasthan Royals             Rajasthan Royals         field   \n",
       "\n",
       "        result  dl_applied winner  win_by_runs  win_by_wickets  \\\n",
       "241  no result           0    NaN            0               0   \n",
       "486  no result           0    NaN            0               0   \n",
       "511  no result           0    NaN            0               0   \n",
       "744  no result           0    NaN            0               0   \n",
       "\n",
       "    player_of_match                   venue          umpire1       umpire2  \\\n",
       "241             NaN        Feroz Shah Kotla        SS Hazare     RJ Tucker   \n",
       "486             NaN   M Chinnaswamy Stadium        JD Cloete     PG Pathak   \n",
       "511             NaN   M Chinnaswamy Stadium  HDPK Dharmasena  K Srinivasan   \n",
       "744             NaN  M. Chinnaswamy Stadium      Nigel Llong  Ulhas Gandhe   \n",
       "\n",
       "            umpire3  \n",
       "241             NaN  \n",
       "486             NaN  \n",
       "511             NaN  \n",
       "744  Anil Chaudhary  "
      ]
     },
     "execution_count": 3,
     "metadata": {},
     "output_type": "execute_result"
    }
   ],
   "source": [
    "matches[pd.isnull(matches['winner'])] #find null value of winner column"
   ]
  },
  {
   "cell_type": "code",
   "execution_count": 4,
   "metadata": {
    "id": "AxDywxJM2UHH"
   },
   "outputs": [],
   "source": [
    "matches['winner'].fillna('Draw', inplace=True) # updating null values to draw"
   ]
  },
  {
   "cell_type": "code",
   "execution_count": 5,
   "metadata": {
    "colab": {
     "base_uri": "https://localhost:8080/",
     "height": 35
    },
    "id": "l66kI_Fy2UHH",
    "outputId": "1548bf82-4d9e-453e-fbb9-070732fd90dc"
   },
   "outputs": [
    {
     "data": {
      "text/plain": [
       "'Draw'"
      ]
     },
     "execution_count": 5,
     "metadata": {},
     "output_type": "execute_result"
    }
   ],
   "source": [
    "matches.loc[241,'winner'] # Checking the values"
   ]
  },
  {
   "cell_type": "code",
   "execution_count": 6,
   "metadata": {
    "colab": {
     "base_uri": "https://localhost:8080/",
     "height": 35
    },
    "id": "1tduFz-l2UHI",
    "outputId": "dc69aaf8-9f08-4b86-fb04-4a878faf2b73"
   },
   "outputs": [
    {
     "data": {
      "text/plain": [
       "'Draw'"
      ]
     },
     "execution_count": 6,
     "metadata": {},
     "output_type": "execute_result"
    }
   ],
   "source": [
    "matches.loc[486,'winner']"
   ]
  },
  {
   "cell_type": "code",
   "execution_count": 7,
   "metadata": {
    "colab": {
     "base_uri": "https://localhost:8080/",
     "height": 35
    },
    "id": "YFuxl4Zd2UHI",
    "outputId": "6c754b96-d957-40ec-fbf4-d8ca79fad776"
   },
   "outputs": [
    {
     "data": {
      "text/plain": [
       "'Draw'"
      ]
     },
     "execution_count": 7,
     "metadata": {},
     "output_type": "execute_result"
    }
   ],
   "source": [
    "matches.loc[511,'winner']"
   ]
  },
  {
   "cell_type": "code",
   "execution_count": 8,
   "metadata": {
    "colab": {
     "base_uri": "https://localhost:8080/",
     "height": 204
    },
    "id": "e18FFXEg2UHJ",
    "outputId": "5c12da17-aa7f-4ed5-a51c-a9cd212c0607"
   },
   "outputs": [
    {
     "data": {
      "text/html": [
       "<div>\n",
       "<style scoped>\n",
       "    .dataframe tbody tr th:only-of-type {\n",
       "        vertical-align: middle;\n",
       "    }\n",
       "\n",
       "    .dataframe tbody tr th {\n",
       "        vertical-align: top;\n",
       "    }\n",
       "\n",
       "    .dataframe thead th {\n",
       "        text-align: right;\n",
       "    }\n",
       "</style>\n",
       "<table border=\"1\" class=\"dataframe\">\n",
       "  <thead>\n",
       "    <tr style=\"text-align: right;\">\n",
       "      <th></th>\n",
       "      <th>id</th>\n",
       "      <th>season</th>\n",
       "      <th>city</th>\n",
       "      <th>date</th>\n",
       "      <th>team1</th>\n",
       "      <th>team2</th>\n",
       "      <th>toss_winner</th>\n",
       "      <th>toss_decision</th>\n",
       "      <th>result</th>\n",
       "      <th>dl_applied</th>\n",
       "      <th>winner</th>\n",
       "      <th>win_by_runs</th>\n",
       "      <th>win_by_wickets</th>\n",
       "      <th>player_of_match</th>\n",
       "      <th>venue</th>\n",
       "      <th>umpire1</th>\n",
       "      <th>umpire2</th>\n",
       "      <th>umpire3</th>\n",
       "    </tr>\n",
       "  </thead>\n",
       "  <tbody>\n",
       "    <tr>\n",
       "      <th>0</th>\n",
       "      <td>1</td>\n",
       "      <td>2008</td>\n",
       "      <td>Bangalore</td>\n",
       "      <td>18-04-2008</td>\n",
       "      <td>KKR</td>\n",
       "      <td>RCB</td>\n",
       "      <td>RCB</td>\n",
       "      <td>field</td>\n",
       "      <td>normal</td>\n",
       "      <td>0</td>\n",
       "      <td>KKR</td>\n",
       "      <td>140</td>\n",
       "      <td>0</td>\n",
       "      <td>BB McCullum</td>\n",
       "      <td>M Chinnaswamy Stadium</td>\n",
       "      <td>Asad Rauf</td>\n",
       "      <td>RE Koertzen</td>\n",
       "      <td>NaN</td>\n",
       "    </tr>\n",
       "    <tr>\n",
       "      <th>1</th>\n",
       "      <td>2</td>\n",
       "      <td>2008</td>\n",
       "      <td>Chandigarh</td>\n",
       "      <td>19-04-2008</td>\n",
       "      <td>CSK</td>\n",
       "      <td>KXIP</td>\n",
       "      <td>CSK</td>\n",
       "      <td>bat</td>\n",
       "      <td>normal</td>\n",
       "      <td>0</td>\n",
       "      <td>CSK</td>\n",
       "      <td>33</td>\n",
       "      <td>0</td>\n",
       "      <td>MEK Hussey</td>\n",
       "      <td>Punjab Cricket Association Stadium, Mohali</td>\n",
       "      <td>MR Benson</td>\n",
       "      <td>SL Shastri</td>\n",
       "      <td>NaN</td>\n",
       "    </tr>\n",
       "    <tr>\n",
       "      <th>2</th>\n",
       "      <td>3</td>\n",
       "      <td>2008</td>\n",
       "      <td>Delhi</td>\n",
       "      <td>19-04-2008</td>\n",
       "      <td>RR</td>\n",
       "      <td>DC</td>\n",
       "      <td>RR</td>\n",
       "      <td>bat</td>\n",
       "      <td>normal</td>\n",
       "      <td>0</td>\n",
       "      <td>DC</td>\n",
       "      <td>0</td>\n",
       "      <td>9</td>\n",
       "      <td>MF Maharoof</td>\n",
       "      <td>Feroz Shah Kotla</td>\n",
       "      <td>Aleem Dar</td>\n",
       "      <td>GA Pratapkumar</td>\n",
       "      <td>NaN</td>\n",
       "    </tr>\n",
       "    <tr>\n",
       "      <th>3</th>\n",
       "      <td>4</td>\n",
       "      <td>2008</td>\n",
       "      <td>Mumbai</td>\n",
       "      <td>20-04-2008</td>\n",
       "      <td>MI</td>\n",
       "      <td>RCB</td>\n",
       "      <td>MI</td>\n",
       "      <td>bat</td>\n",
       "      <td>normal</td>\n",
       "      <td>0</td>\n",
       "      <td>RCB</td>\n",
       "      <td>0</td>\n",
       "      <td>5</td>\n",
       "      <td>MV Boucher</td>\n",
       "      <td>Wankhede Stadium</td>\n",
       "      <td>SJ Davis</td>\n",
       "      <td>DJ Harper</td>\n",
       "      <td>NaN</td>\n",
       "    </tr>\n",
       "    <tr>\n",
       "      <th>4</th>\n",
       "      <td>5</td>\n",
       "      <td>2008</td>\n",
       "      <td>Kolkata</td>\n",
       "      <td>20-04-2008</td>\n",
       "      <td>DCH</td>\n",
       "      <td>KKR</td>\n",
       "      <td>DCH</td>\n",
       "      <td>bat</td>\n",
       "      <td>normal</td>\n",
       "      <td>0</td>\n",
       "      <td>KKR</td>\n",
       "      <td>0</td>\n",
       "      <td>5</td>\n",
       "      <td>DJ Hussey</td>\n",
       "      <td>Eden Gardens</td>\n",
       "      <td>BF Bowden</td>\n",
       "      <td>K Hariharan</td>\n",
       "      <td>NaN</td>\n",
       "    </tr>\n",
       "  </tbody>\n",
       "</table>\n",
       "</div>"
      ],
      "text/plain": [
       "   id  season        city        date team1 team2 toss_winner toss_decision  \\\n",
       "0   1    2008   Bangalore  18-04-2008   KKR   RCB         RCB         field   \n",
       "1   2    2008  Chandigarh  19-04-2008   CSK  KXIP         CSK           bat   \n",
       "2   3    2008       Delhi  19-04-2008    RR    DC          RR           bat   \n",
       "3   4    2008      Mumbai  20-04-2008    MI   RCB          MI           bat   \n",
       "4   5    2008     Kolkata  20-04-2008   DCH   KKR         DCH           bat   \n",
       "\n",
       "   result  dl_applied winner  win_by_runs  win_by_wickets player_of_match  \\\n",
       "0  normal           0    KKR          140               0     BB McCullum   \n",
       "1  normal           0    CSK           33               0      MEK Hussey   \n",
       "2  normal           0     DC            0               9     MF Maharoof   \n",
       "3  normal           0    RCB            0               5      MV Boucher   \n",
       "4  normal           0    KKR            0               5       DJ Hussey   \n",
       "\n",
       "                                        venue    umpire1         umpire2  \\\n",
       "0                       M Chinnaswamy Stadium  Asad Rauf     RE Koertzen   \n",
       "1  Punjab Cricket Association Stadium, Mohali  MR Benson      SL Shastri   \n",
       "2                            Feroz Shah Kotla  Aleem Dar  GA Pratapkumar   \n",
       "3                            Wankhede Stadium   SJ Davis       DJ Harper   \n",
       "4                                Eden Gardens  BF Bowden     K Hariharan   \n",
       "\n",
       "  umpire3  \n",
       "0     NaN  \n",
       "1     NaN  \n",
       "2     NaN  \n",
       "3     NaN  \n",
       "4     NaN  "
      ]
     },
     "execution_count": 8,
     "metadata": {},
     "output_type": "execute_result"
    }
   ],
   "source": [
    "matches.replace(['Mumbai Indians','Kolkata Knight Riders','Royal Challengers Bangalore','Deccan Chargers','Chennai Super Kings',\n",
    "                 'Rajasthan Royals','Gujarat Lions','Kings XI Punjab',\n",
    "                 'Sunrisers Hyderabad','Rising Pune Supergiant','Kochi Tuskers Kerala','Pune Warriors','Delhi Capitals']\n",
    "                ,['MI','KKR','RCB','DCH','CSK','RR','GL','KXIP','SRH','RPS','KTK','PW','DC'],inplace=True)\n",
    "     #replacing large name to short\n",
    "    \n",
    "matches.head(5)"
   ]
  },
  {
   "cell_type": "code",
   "execution_count": 9,
   "metadata": {
    "colab": {
     "base_uri": "https://localhost:8080/",
     "height": 204
    },
    "id": "TzUfgY3T2UHK",
    "outputId": "bf6082b0-9785-4a07-fd92-d20c3a38eab0"
   },
   "outputs": [
    {
     "data": {
      "text/html": [
       "<div>\n",
       "<style scoped>\n",
       "    .dataframe tbody tr th:only-of-type {\n",
       "        vertical-align: middle;\n",
       "    }\n",
       "\n",
       "    .dataframe tbody tr th {\n",
       "        vertical-align: top;\n",
       "    }\n",
       "\n",
       "    .dataframe thead th {\n",
       "        text-align: right;\n",
       "    }\n",
       "</style>\n",
       "<table border=\"1\" class=\"dataframe\">\n",
       "  <thead>\n",
       "    <tr style=\"text-align: right;\">\n",
       "      <th></th>\n",
       "      <th>id</th>\n",
       "      <th>season</th>\n",
       "      <th>city</th>\n",
       "      <th>date</th>\n",
       "      <th>team1</th>\n",
       "      <th>team2</th>\n",
       "      <th>toss_winner</th>\n",
       "      <th>toss_decision</th>\n",
       "      <th>result</th>\n",
       "      <th>dl_applied</th>\n",
       "      <th>winner</th>\n",
       "      <th>win_by_runs</th>\n",
       "      <th>win_by_wickets</th>\n",
       "      <th>player_of_match</th>\n",
       "      <th>venue</th>\n",
       "      <th>umpire1</th>\n",
       "      <th>umpire2</th>\n",
       "      <th>umpire3</th>\n",
       "    </tr>\n",
       "  </thead>\n",
       "  <tbody>\n",
       "    <tr>\n",
       "      <th>0</th>\n",
       "      <td>1</td>\n",
       "      <td>2008</td>\n",
       "      <td>Bangalore</td>\n",
       "      <td>18-04-2008</td>\n",
       "      <td>2</td>\n",
       "      <td>3</td>\n",
       "      <td>3</td>\n",
       "      <td>field</td>\n",
       "      <td>normal</td>\n",
       "      <td>0</td>\n",
       "      <td>2</td>\n",
       "      <td>140</td>\n",
       "      <td>0</td>\n",
       "      <td>BB McCullum</td>\n",
       "      <td>M Chinnaswamy Stadium</td>\n",
       "      <td>Asad Rauf</td>\n",
       "      <td>RE Koertzen</td>\n",
       "      <td>NaN</td>\n",
       "    </tr>\n",
       "    <tr>\n",
       "      <th>1</th>\n",
       "      <td>2</td>\n",
       "      <td>2008</td>\n",
       "      <td>Chandigarh</td>\n",
       "      <td>19-04-2008</td>\n",
       "      <td>5</td>\n",
       "      <td>8</td>\n",
       "      <td>5</td>\n",
       "      <td>bat</td>\n",
       "      <td>normal</td>\n",
       "      <td>0</td>\n",
       "      <td>5</td>\n",
       "      <td>33</td>\n",
       "      <td>0</td>\n",
       "      <td>MEK Hussey</td>\n",
       "      <td>Punjab Cricket Association Stadium, Mohali</td>\n",
       "      <td>MR Benson</td>\n",
       "      <td>SL Shastri</td>\n",
       "      <td>NaN</td>\n",
       "    </tr>\n",
       "    <tr>\n",
       "      <th>2</th>\n",
       "      <td>3</td>\n",
       "      <td>2008</td>\n",
       "      <td>Delhi</td>\n",
       "      <td>19-04-2008</td>\n",
       "      <td>6</td>\n",
       "      <td>13</td>\n",
       "      <td>6</td>\n",
       "      <td>bat</td>\n",
       "      <td>normal</td>\n",
       "      <td>0</td>\n",
       "      <td>13</td>\n",
       "      <td>0</td>\n",
       "      <td>9</td>\n",
       "      <td>MF Maharoof</td>\n",
       "      <td>Feroz Shah Kotla</td>\n",
       "      <td>Aleem Dar</td>\n",
       "      <td>GA Pratapkumar</td>\n",
       "      <td>NaN</td>\n",
       "    </tr>\n",
       "    <tr>\n",
       "      <th>3</th>\n",
       "      <td>4</td>\n",
       "      <td>2008</td>\n",
       "      <td>Mumbai</td>\n",
       "      <td>20-04-2008</td>\n",
       "      <td>1</td>\n",
       "      <td>3</td>\n",
       "      <td>1</td>\n",
       "      <td>bat</td>\n",
       "      <td>normal</td>\n",
       "      <td>0</td>\n",
       "      <td>3</td>\n",
       "      <td>0</td>\n",
       "      <td>5</td>\n",
       "      <td>MV Boucher</td>\n",
       "      <td>Wankhede Stadium</td>\n",
       "      <td>SJ Davis</td>\n",
       "      <td>DJ Harper</td>\n",
       "      <td>NaN</td>\n",
       "    </tr>\n",
       "    <tr>\n",
       "      <th>4</th>\n",
       "      <td>5</td>\n",
       "      <td>2008</td>\n",
       "      <td>Kolkata</td>\n",
       "      <td>20-04-2008</td>\n",
       "      <td>4</td>\n",
       "      <td>2</td>\n",
       "      <td>4</td>\n",
       "      <td>bat</td>\n",
       "      <td>normal</td>\n",
       "      <td>0</td>\n",
       "      <td>2</td>\n",
       "      <td>0</td>\n",
       "      <td>5</td>\n",
       "      <td>DJ Hussey</td>\n",
       "      <td>Eden Gardens</td>\n",
       "      <td>BF Bowden</td>\n",
       "      <td>K Hariharan</td>\n",
       "      <td>NaN</td>\n",
       "    </tr>\n",
       "  </tbody>\n",
       "</table>\n",
       "</div>"
      ],
      "text/plain": [
       "   id  season        city        date  team1  team2  toss_winner  \\\n",
       "0   1    2008   Bangalore  18-04-2008      2      3            3   \n",
       "1   2    2008  Chandigarh  19-04-2008      5      8            5   \n",
       "2   3    2008       Delhi  19-04-2008      6     13            6   \n",
       "3   4    2008      Mumbai  20-04-2008      1      3            1   \n",
       "4   5    2008     Kolkata  20-04-2008      4      2            4   \n",
       "\n",
       "  toss_decision  result  dl_applied  winner  win_by_runs  win_by_wickets  \\\n",
       "0         field  normal           0       2          140               0   \n",
       "1           bat  normal           0       5           33               0   \n",
       "2           bat  normal           0      13            0               9   \n",
       "3           bat  normal           0       3            0               5   \n",
       "4           bat  normal           0       2            0               5   \n",
       "\n",
       "  player_of_match                                       venue    umpire1  \\\n",
       "0     BB McCullum                       M Chinnaswamy Stadium  Asad Rauf   \n",
       "1      MEK Hussey  Punjab Cricket Association Stadium, Mohali  MR Benson   \n",
       "2     MF Maharoof                            Feroz Shah Kotla  Aleem Dar   \n",
       "3      MV Boucher                            Wankhede Stadium   SJ Davis   \n",
       "4       DJ Hussey                                Eden Gardens  BF Bowden   \n",
       "\n",
       "          umpire2 umpire3  \n",
       "0     RE Koertzen     NaN  \n",
       "1      SL Shastri     NaN  \n",
       "2  GA Pratapkumar     NaN  \n",
       "3       DJ Harper     NaN  \n",
       "4     K Hariharan     NaN  "
      ]
     },
     "execution_count": 9,
     "metadata": {},
     "output_type": "execute_result"
    }
   ],
   "source": [
    "encode = {'team1': {'MI':1,'KKR':2,'RCB':3,'DCH':4,'CSK':5,'RR':6,'GL':7,'KXIP':8,'SRH':9,'RPS':10,'KTK':11,'PW':12,'DC':13},\n",
    "          'team2': {'MI':1,'KKR':2,'RCB':3,'DCH':4,'CSK':5,'RR':6,'GL':7,'KXIP':8,'SRH':9,'RPS':10,'KTK':11,'PW':12,'DC':13},\n",
    "          'toss_winner': {'MI':1,'KKR':2,'RCB':3,'DCH':4,'CSK':5,'RR':6,'GL':7,'KXIP':8,'SRH':9,'RPS':10,'KTK':11,'PW':12,'DC':13},\n",
    "          'winner': {'MI':1,'KKR':2,'RCB':3,'DCH':4,'CSK':5,'RR':6,'GL':7,'KXIP':8,'SRH':9,'RPS':10,'KTK':11,'PW':12,'DC':13,'Draw':14}}\n",
    "matches.replace(encode, inplace=True)\n",
    "matches.head()"
   ]
  },
  {
   "cell_type": "code",
   "execution_count": 10,
   "metadata": {
    "colab": {
     "base_uri": "https://localhost:8080/",
     "height": 49
    },
    "id": "fh3JEzm82UHK",
    "outputId": "74b131f5-d5f6-4b35-a05d-86b09753047f"
   },
   "outputs": [
    {
     "data": {
      "text/html": [
       "<div>\n",
       "<style scoped>\n",
       "    .dataframe tbody tr th:only-of-type {\n",
       "        vertical-align: middle;\n",
       "    }\n",
       "\n",
       "    .dataframe tbody tr th {\n",
       "        vertical-align: top;\n",
       "    }\n",
       "\n",
       "    .dataframe thead th {\n",
       "        text-align: right;\n",
       "    }\n",
       "</style>\n",
       "<table border=\"1\" class=\"dataframe\">\n",
       "  <thead>\n",
       "    <tr style=\"text-align: right;\">\n",
       "      <th></th>\n",
       "      <th>id</th>\n",
       "      <th>season</th>\n",
       "      <th>city</th>\n",
       "      <th>date</th>\n",
       "      <th>team1</th>\n",
       "      <th>team2</th>\n",
       "      <th>toss_winner</th>\n",
       "      <th>toss_decision</th>\n",
       "      <th>result</th>\n",
       "      <th>dl_applied</th>\n",
       "      <th>winner</th>\n",
       "      <th>win_by_runs</th>\n",
       "      <th>win_by_wickets</th>\n",
       "      <th>player_of_match</th>\n",
       "      <th>venue</th>\n",
       "      <th>umpire1</th>\n",
       "      <th>umpire2</th>\n",
       "      <th>umpire3</th>\n",
       "    </tr>\n",
       "  </thead>\n",
       "  <tbody>\n",
       "    <tr>\n",
       "      <th>402</th>\n",
       "      <td>403</td>\n",
       "      <td>2014</td>\n",
       "      <td>NaN</td>\n",
       "      <td>19-04-2014</td>\n",
       "      <td>1</td>\n",
       "      <td>3</td>\n",
       "      <td>3</td>\n",
       "      <td>field</td>\n",
       "      <td>normal</td>\n",
       "      <td>0</td>\n",
       "      <td>3</td>\n",
       "      <td>0</td>\n",
       "      <td>7</td>\n",
       "      <td>PA Patel</td>\n",
       "      <td>Dubai International Cricket Stadium</td>\n",
       "      <td>Aleem Dar</td>\n",
       "      <td>AK Chaudhary</td>\n",
       "      <td>NaN</td>\n",
       "    </tr>\n",
       "    <tr>\n",
       "      <th>403</th>\n",
       "      <td>404</td>\n",
       "      <td>2014</td>\n",
       "      <td>NaN</td>\n",
       "      <td>19-04-2014</td>\n",
       "      <td>2</td>\n",
       "      <td>13</td>\n",
       "      <td>2</td>\n",
       "      <td>bat</td>\n",
       "      <td>normal</td>\n",
       "      <td>0</td>\n",
       "      <td>13</td>\n",
       "      <td>0</td>\n",
       "      <td>4</td>\n",
       "      <td>JP Duminy</td>\n",
       "      <td>Dubai International Cricket Stadium</td>\n",
       "      <td>Aleem Dar</td>\n",
       "      <td>VA Kulkarni</td>\n",
       "      <td>NaN</td>\n",
       "    </tr>\n",
       "    <tr>\n",
       "      <th>407</th>\n",
       "      <td>408</td>\n",
       "      <td>2014</td>\n",
       "      <td>NaN</td>\n",
       "      <td>23-04-2014</td>\n",
       "      <td>5</td>\n",
       "      <td>6</td>\n",
       "      <td>6</td>\n",
       "      <td>field</td>\n",
       "      <td>normal</td>\n",
       "      <td>0</td>\n",
       "      <td>5</td>\n",
       "      <td>7</td>\n",
       "      <td>0</td>\n",
       "      <td>RA Jadeja</td>\n",
       "      <td>Dubai International Cricket Stadium</td>\n",
       "      <td>HDPK Dharmasena</td>\n",
       "      <td>RK Illingworth</td>\n",
       "      <td>NaN</td>\n",
       "    </tr>\n",
       "    <tr>\n",
       "      <th>409</th>\n",
       "      <td>410</td>\n",
       "      <td>2014</td>\n",
       "      <td>NaN</td>\n",
       "      <td>25-04-2014</td>\n",
       "      <td>9</td>\n",
       "      <td>13</td>\n",
       "      <td>9</td>\n",
       "      <td>bat</td>\n",
       "      <td>normal</td>\n",
       "      <td>0</td>\n",
       "      <td>9</td>\n",
       "      <td>4</td>\n",
       "      <td>0</td>\n",
       "      <td>AJ Finch</td>\n",
       "      <td>Dubai International Cricket Stadium</td>\n",
       "      <td>M Erasmus</td>\n",
       "      <td>S Ravi</td>\n",
       "      <td>NaN</td>\n",
       "    </tr>\n",
       "    <tr>\n",
       "      <th>410</th>\n",
       "      <td>411</td>\n",
       "      <td>2014</td>\n",
       "      <td>NaN</td>\n",
       "      <td>25-04-2014</td>\n",
       "      <td>1</td>\n",
       "      <td>5</td>\n",
       "      <td>1</td>\n",
       "      <td>bat</td>\n",
       "      <td>normal</td>\n",
       "      <td>0</td>\n",
       "      <td>5</td>\n",
       "      <td>0</td>\n",
       "      <td>7</td>\n",
       "      <td>MM Sharma</td>\n",
       "      <td>Dubai International Cricket Stadium</td>\n",
       "      <td>BF Bowden</td>\n",
       "      <td>M Erasmus</td>\n",
       "      <td>NaN</td>\n",
       "    </tr>\n",
       "    <tr>\n",
       "      <th>415</th>\n",
       "      <td>416</td>\n",
       "      <td>2014</td>\n",
       "      <td>NaN</td>\n",
       "      <td>28-04-2014</td>\n",
       "      <td>3</td>\n",
       "      <td>8</td>\n",
       "      <td>8</td>\n",
       "      <td>field</td>\n",
       "      <td>normal</td>\n",
       "      <td>0</td>\n",
       "      <td>8</td>\n",
       "      <td>0</td>\n",
       "      <td>5</td>\n",
       "      <td>Sandeep Sharma</td>\n",
       "      <td>Dubai International Cricket Stadium</td>\n",
       "      <td>BF Bowden</td>\n",
       "      <td>S Ravi</td>\n",
       "      <td>NaN</td>\n",
       "    </tr>\n",
       "    <tr>\n",
       "      <th>417</th>\n",
       "      <td>418</td>\n",
       "      <td>2014</td>\n",
       "      <td>NaN</td>\n",
       "      <td>30-04-2014</td>\n",
       "      <td>9</td>\n",
       "      <td>1</td>\n",
       "      <td>1</td>\n",
       "      <td>field</td>\n",
       "      <td>normal</td>\n",
       "      <td>0</td>\n",
       "      <td>9</td>\n",
       "      <td>15</td>\n",
       "      <td>0</td>\n",
       "      <td>B Kumar</td>\n",
       "      <td>Dubai International Cricket Stadium</td>\n",
       "      <td>HDPK Dharmasena</td>\n",
       "      <td>M Erasmus</td>\n",
       "      <td>NaN</td>\n",
       "    </tr>\n",
       "  </tbody>\n",
       "</table>\n",
       "</div>"
      ],
      "text/plain": [
       "      id  season city        date  team1  team2  toss_winner toss_decision  \\\n",
       "402  403    2014  NaN  19-04-2014      1      3            3         field   \n",
       "403  404    2014  NaN  19-04-2014      2     13            2           bat   \n",
       "407  408    2014  NaN  23-04-2014      5      6            6         field   \n",
       "409  410    2014  NaN  25-04-2014      9     13            9           bat   \n",
       "410  411    2014  NaN  25-04-2014      1      5            1           bat   \n",
       "415  416    2014  NaN  28-04-2014      3      8            8         field   \n",
       "417  418    2014  NaN  30-04-2014      9      1            1         field   \n",
       "\n",
       "     result  dl_applied  winner  win_by_runs  win_by_wickets player_of_match  \\\n",
       "402  normal           0       3            0               7        PA Patel   \n",
       "403  normal           0      13            0               4       JP Duminy   \n",
       "407  normal           0       5            7               0       RA Jadeja   \n",
       "409  normal           0       9            4               0        AJ Finch   \n",
       "410  normal           0       5            0               7       MM Sharma   \n",
       "415  normal           0       8            0               5  Sandeep Sharma   \n",
       "417  normal           0       9           15               0         B Kumar   \n",
       "\n",
       "                                   venue          umpire1         umpire2  \\\n",
       "402  Dubai International Cricket Stadium        Aleem Dar    AK Chaudhary   \n",
       "403  Dubai International Cricket Stadium        Aleem Dar     VA Kulkarni   \n",
       "407  Dubai International Cricket Stadium  HDPK Dharmasena  RK Illingworth   \n",
       "409  Dubai International Cricket Stadium        M Erasmus          S Ravi   \n",
       "410  Dubai International Cricket Stadium        BF Bowden       M Erasmus   \n",
       "415  Dubai International Cricket Stadium        BF Bowden          S Ravi   \n",
       "417  Dubai International Cricket Stadium  HDPK Dharmasena       M Erasmus   \n",
       "\n",
       "    umpire3  \n",
       "402     NaN  \n",
       "403     NaN  \n",
       "407     NaN  \n",
       "409     NaN  \n",
       "410     NaN  \n",
       "415     NaN  \n",
       "417     NaN  "
      ]
     },
     "execution_count": 10,
     "metadata": {},
     "output_type": "execute_result"
    }
   ],
   "source": [
    "matches[pd.isnull(matches['city'])]  # find null cities"
   ]
  },
  {
   "cell_type": "code",
   "execution_count": 11,
   "metadata": {},
   "outputs": [],
   "source": [
    "del matches['umpire3']"
   ]
  },
  {
   "cell_type": "code",
   "execution_count": 12,
   "metadata": {
    "colab": {
     "base_uri": "https://localhost:8080/"
    },
    "id": "dz0RSCxU2UHL",
    "outputId": "4c9727fd-7747-461f-c8ac-a68b54faf6a0"
   },
   "outputs": [
    {
     "name": "stdout",
     "output_type": "stream",
     "text": [
      "<class 'pandas.core.frame.DataFrame'>\n",
      "RangeIndex: 816 entries, 0 to 815\n",
      "Data columns (total 17 columns):\n",
      " #   Column           Non-Null Count  Dtype \n",
      "---  ------           --------------  ----- \n",
      " 0   id               816 non-null    int64 \n",
      " 1   season           816 non-null    int64 \n",
      " 2   city             816 non-null    object\n",
      " 3   date             816 non-null    object\n",
      " 4   team1            816 non-null    int64 \n",
      " 5   team2            816 non-null    int64 \n",
      " 6   toss_winner      816 non-null    int64 \n",
      " 7   toss_decision    816 non-null    object\n",
      " 8   result           816 non-null    object\n",
      " 9   dl_applied       816 non-null    int64 \n",
      " 10  winner           816 non-null    int64 \n",
      " 11  win_by_runs      816 non-null    int64 \n",
      " 12  win_by_wickets   816 non-null    int64 \n",
      " 13  player_of_match  812 non-null    object\n",
      " 14  venue            816 non-null    object\n",
      " 15  umpire1          814 non-null    object\n",
      " 16  umpire2          814 non-null    object\n",
      "dtypes: int64(9), object(8)\n",
      "memory usage: 108.5+ KB\n"
     ]
    }
   ],
   "source": [
    "matches['city'].fillna('Dubai International Cricket Stadium',inplace=True)\n",
    "matches.describe()\n",
    "matches.info()"
   ]
  },
  {
   "cell_type": "code",
   "execution_count": 13,
   "metadata": {
    "colab": {
     "base_uri": "https://localhost:8080/"
    },
    "id": "AsxX79VN2UHL",
    "outputId": "035b140f-22bf-413b-c47e-d0713ffce9f9"
   },
   "outputs": [
    {
     "name": "stdout",
     "output_type": "stream",
     "text": [
      "106\n",
      "120\n"
     ]
    }
   ],
   "source": [
    "xx=matches.groupby([\"toss_winner\"]).size()\n",
    "print(xx._get_value(1))\n",
    "yy=matches.groupby([\"winner\"]).size()\n",
    "print(yy._get_value(1))"
   ]
  },
  {
   "cell_type": "code",
   "execution_count": 14,
   "metadata": {
    "colab": {
     "base_uri": "https://localhost:8080/"
    },
    "id": "7oGkoZfv2UHM",
    "outputId": "04be1e86-bd3d-46a0-9932-d91536bf3495"
   },
   "outputs": [
    {
     "name": "stdout",
     "output_type": "stream",
     "text": [
      "1\n",
      "MI\n"
     ]
    }
   ],
   "source": [
    "#maintain a dictionary for future reference mapping teams\n",
    "dicVal = encode['winner']\n",
    "print(dicVal['MI']) #key value\n",
    "print(list(dicVal.keys())[list(dicVal.values()).index(1)]) #find key by value search "
   ]
  },
  {
   "cell_type": "code",
   "execution_count": 15,
   "metadata": {
    "colab": {
     "base_uri": "https://localhost:8080/",
     "height": 204
    },
    "id": "GXuTISMj2UHM",
    "outputId": "634ed55a-7a09-4ec8-a686-7976aced6c9c"
   },
   "outputs": [
    {
     "data": {
      "text/html": [
       "<div>\n",
       "<style scoped>\n",
       "    .dataframe tbody tr th:only-of-type {\n",
       "        vertical-align: middle;\n",
       "    }\n",
       "\n",
       "    .dataframe tbody tr th {\n",
       "        vertical-align: top;\n",
       "    }\n",
       "\n",
       "    .dataframe thead th {\n",
       "        text-align: right;\n",
       "    }\n",
       "</style>\n",
       "<table border=\"1\" class=\"dataframe\">\n",
       "  <thead>\n",
       "    <tr style=\"text-align: right;\">\n",
       "      <th></th>\n",
       "      <th>team1</th>\n",
       "      <th>team2</th>\n",
       "      <th>city</th>\n",
       "      <th>toss_decision</th>\n",
       "      <th>toss_winner</th>\n",
       "      <th>venue</th>\n",
       "      <th>winner</th>\n",
       "    </tr>\n",
       "  </thead>\n",
       "  <tbody>\n",
       "    <tr>\n",
       "      <th>0</th>\n",
       "      <td>2</td>\n",
       "      <td>3</td>\n",
       "      <td>Bangalore</td>\n",
       "      <td>field</td>\n",
       "      <td>3</td>\n",
       "      <td>M Chinnaswamy Stadium</td>\n",
       "      <td>2</td>\n",
       "    </tr>\n",
       "    <tr>\n",
       "      <th>1</th>\n",
       "      <td>5</td>\n",
       "      <td>8</td>\n",
       "      <td>Chandigarh</td>\n",
       "      <td>bat</td>\n",
       "      <td>5</td>\n",
       "      <td>Punjab Cricket Association Stadium, Mohali</td>\n",
       "      <td>5</td>\n",
       "    </tr>\n",
       "    <tr>\n",
       "      <th>2</th>\n",
       "      <td>6</td>\n",
       "      <td>13</td>\n",
       "      <td>Delhi</td>\n",
       "      <td>bat</td>\n",
       "      <td>6</td>\n",
       "      <td>Feroz Shah Kotla</td>\n",
       "      <td>13</td>\n",
       "    </tr>\n",
       "    <tr>\n",
       "      <th>3</th>\n",
       "      <td>1</td>\n",
       "      <td>3</td>\n",
       "      <td>Mumbai</td>\n",
       "      <td>bat</td>\n",
       "      <td>1</td>\n",
       "      <td>Wankhede Stadium</td>\n",
       "      <td>3</td>\n",
       "    </tr>\n",
       "    <tr>\n",
       "      <th>4</th>\n",
       "      <td>4</td>\n",
       "      <td>2</td>\n",
       "      <td>Kolkata</td>\n",
       "      <td>bat</td>\n",
       "      <td>4</td>\n",
       "      <td>Eden Gardens</td>\n",
       "      <td>2</td>\n",
       "    </tr>\n",
       "  </tbody>\n",
       "</table>\n",
       "</div>"
      ],
      "text/plain": [
       "   team1  team2        city toss_decision  toss_winner  \\\n",
       "0      2      3   Bangalore         field            3   \n",
       "1      5      8  Chandigarh           bat            5   \n",
       "2      6     13       Delhi           bat            6   \n",
       "3      1      3      Mumbai           bat            1   \n",
       "4      4      2     Kolkata           bat            4   \n",
       "\n",
       "                                        venue  winner  \n",
       "0                       M Chinnaswamy Stadium       2  \n",
       "1  Punjab Cricket Association Stadium, Mohali       5  \n",
       "2                            Feroz Shah Kotla      13  \n",
       "3                            Wankhede Stadium       3  \n",
       "4                                Eden Gardens       2  "
      ]
     },
     "execution_count": 15,
     "metadata": {},
     "output_type": "execute_result"
    }
   ],
   "source": [
    "matches = matches[['team1','team2','city','toss_decision','toss_winner','venue','winner']]\n",
    "matches.head(5)"
   ]
  },
  {
   "cell_type": "code",
   "execution_count": 16,
   "metadata": {
    "colab": {
     "base_uri": "https://localhost:8080/",
     "height": 297
    },
    "id": "qFyySad32UHN",
    "outputId": "0e2fe85d-f8d9-4e8a-9bf5-c987a74eb802"
   },
   "outputs": [
    {
     "data": {
      "text/html": [
       "<div>\n",
       "<style scoped>\n",
       "    .dataframe tbody tr th:only-of-type {\n",
       "        vertical-align: middle;\n",
       "    }\n",
       "\n",
       "    .dataframe tbody tr th {\n",
       "        vertical-align: top;\n",
       "    }\n",
       "\n",
       "    .dataframe thead th {\n",
       "        text-align: right;\n",
       "    }\n",
       "</style>\n",
       "<table border=\"1\" class=\"dataframe\">\n",
       "  <thead>\n",
       "    <tr style=\"text-align: right;\">\n",
       "      <th></th>\n",
       "      <th>team1</th>\n",
       "      <th>team2</th>\n",
       "      <th>toss_winner</th>\n",
       "      <th>winner</th>\n",
       "    </tr>\n",
       "  </thead>\n",
       "  <tbody>\n",
       "    <tr>\n",
       "      <th>count</th>\n",
       "      <td>816.000000</td>\n",
       "      <td>816.00000</td>\n",
       "      <td>816.000000</td>\n",
       "      <td>816.000000</td>\n",
       "    </tr>\n",
       "    <tr>\n",
       "      <th>mean</th>\n",
       "      <td>5.865196</td>\n",
       "      <td>6.02451</td>\n",
       "      <td>5.879902</td>\n",
       "      <td>5.693627</td>\n",
       "    </tr>\n",
       "    <tr>\n",
       "      <th>std</th>\n",
       "      <td>3.791041</td>\n",
       "      <td>3.92405</td>\n",
       "      <td>3.861757</td>\n",
       "      <td>3.804970</td>\n",
       "    </tr>\n",
       "    <tr>\n",
       "      <th>min</th>\n",
       "      <td>1.000000</td>\n",
       "      <td>1.00000</td>\n",
       "      <td>1.000000</td>\n",
       "      <td>1.000000</td>\n",
       "    </tr>\n",
       "    <tr>\n",
       "      <th>25%</th>\n",
       "      <td>3.000000</td>\n",
       "      <td>3.00000</td>\n",
       "      <td>2.750000</td>\n",
       "      <td>2.000000</td>\n",
       "    </tr>\n",
       "    <tr>\n",
       "      <th>50%</th>\n",
       "      <td>5.000000</td>\n",
       "      <td>5.00000</td>\n",
       "      <td>5.000000</td>\n",
       "      <td>5.000000</td>\n",
       "    </tr>\n",
       "    <tr>\n",
       "      <th>75%</th>\n",
       "      <td>8.000000</td>\n",
       "      <td>9.00000</td>\n",
       "      <td>8.000000</td>\n",
       "      <td>8.000000</td>\n",
       "    </tr>\n",
       "    <tr>\n",
       "      <th>max</th>\n",
       "      <td>13.000000</td>\n",
       "      <td>13.00000</td>\n",
       "      <td>13.000000</td>\n",
       "      <td>14.000000</td>\n",
       "    </tr>\n",
       "  </tbody>\n",
       "</table>\n",
       "</div>"
      ],
      "text/plain": [
       "            team1      team2  toss_winner      winner\n",
       "count  816.000000  816.00000   816.000000  816.000000\n",
       "mean     5.865196    6.02451     5.879902    5.693627\n",
       "std      3.791041    3.92405     3.861757    3.804970\n",
       "min      1.000000    1.00000     1.000000    1.000000\n",
       "25%      3.000000    3.00000     2.750000    2.000000\n",
       "50%      5.000000    5.00000     5.000000    5.000000\n",
       "75%      8.000000    9.00000     8.000000    8.000000\n",
       "max     13.000000   13.00000    13.000000   14.000000"
      ]
     },
     "execution_count": 16,
     "metadata": {},
     "output_type": "execute_result"
    }
   ],
   "source": [
    "df = pd.DataFrame(matches)\n",
    "df.describe()"
   ]
  },
  {
   "cell_type": "code",
   "execution_count": 17,
   "metadata": {
    "colab": {
     "base_uri": "https://localhost:8080/"
    },
    "id": "3ftGwgkg2UHO",
    "outputId": "3545fc99-afcd-4e53-a772-163c910d0269"
   },
   "outputs": [
    {
     "data": {
      "text/plain": [
       "array(['Bangalore', 'Chandigarh', 'Delhi', 'Mumbai', 'Kolkata', 'Jaipur',\n",
       "       'Hyderabad', 'Chennai', 'Cape Town', 'Port Elizabeth', 'Durban',\n",
       "       'Centurion', 'East London', 'Johannesburg', 'Kimberley',\n",
       "       'Bloemfontein', 'Ahmedabad', 'Cuttack', 'Nagpur', 'Dharamsala',\n",
       "       'Kochi', 'Indore', 'Visakhapatnam', 'Pune', 'Raipur', 'Ranchi',\n",
       "       'Abu Dhabi', 'Sharjah', 'Dubai International Cricket Stadium',\n",
       "       'Rajkot', 'Kanpur', 'Mohali', 'Bengaluru'], dtype=object)"
      ]
     },
     "execution_count": 17,
     "metadata": {},
     "output_type": "execute_result"
    }
   ],
   "source": [
    "df[\"city\"].unique() #all 31 cities"
   ]
  },
  {
   "cell_type": "code",
   "execution_count": 18,
   "metadata": {
    "colab": {
     "base_uri": "https://localhost:8080/"
    },
    "id": "x5aSzE1f2UHO",
    "outputId": "bb2a5d1b-4ca9-4bd7-de5f-e6ded5dbfa90"
   },
   "outputs": [
    {
     "data": {
      "text/plain": [
       "array(['M Chinnaswamy Stadium',\n",
       "       'Punjab Cricket Association Stadium, Mohali', 'Feroz Shah Kotla',\n",
       "       'Wankhede Stadium', 'Eden Gardens', 'Sawai Mansingh Stadium',\n",
       "       'Rajiv Gandhi International Stadium, Uppal',\n",
       "       'MA Chidambaram Stadium, Chepauk', 'Dr DY Patil Sports Academy',\n",
       "       'Newlands', \"St George's Park\", 'Kingsmead', 'SuperSport Park',\n",
       "       'Buffalo Park', 'New Wanderers Stadium', 'De Beers Diamond Oval',\n",
       "       'OUTsurance Oval', 'Brabourne Stadium',\n",
       "       'Sardar Patel Stadium, Motera', 'Barabati Stadium',\n",
       "       'Vidarbha Cricket Association Stadium, Jamtha',\n",
       "       'Himachal Pradesh Cricket Association Stadium', 'Nehru Stadium',\n",
       "       'Holkar Cricket Stadium',\n",
       "       'Dr. Y.S. Rajasekhara Reddy ACA-VDCA Cricket Stadium',\n",
       "       'Subrata Roy Sahara Stadium',\n",
       "       'Shaheed Veer Narayan Singh International Stadium',\n",
       "       'JSCA International Stadium Complex', 'Sheikh Zayed Stadium',\n",
       "       'Sharjah Cricket Stadium', 'Dubai International Cricket Stadium',\n",
       "       'Maharashtra Cricket Association Stadium',\n",
       "       'Punjab Cricket Association IS Bindra Stadium, Mohali',\n",
       "       'Saurashtra Cricket Association Stadium', 'Green Park',\n",
       "       'M. A. Chidambaram Stadium', 'Feroz Shah Kotla Ground',\n",
       "       'M. Chinnaswamy Stadium', 'Rajiv Gandhi Intl. Cricket Stadium',\n",
       "       'IS Bindra Stadium', 'ACA-VDCA Stadium',\n",
       "       'Sheikh Zayed Stadium, Abu Dhabi'], dtype=object)"
      ]
     },
     "execution_count": 18,
     "metadata": {},
     "output_type": "execute_result"
    }
   ],
   "source": [
    "df[\"venue\"].unique() #all 35 venues"
   ]
  },
  {
   "cell_type": "code",
   "execution_count": 19,
   "metadata": {
    "colab": {
     "base_uri": "https://localhost:8080/"
    },
    "id": "UlKSK3962UHO",
    "outputId": "8ae6b7d6-ebeb-46d0-d97e-44dbf471195c"
   },
   "outputs": [
    {
     "name": "stdout",
     "output_type": "stream",
     "text": [
      "[ 0  1  2  3  4  5  6  7  6  1  0  7  3  1  0  4  2  6  5  7  6  1  3  5\n",
      "  0  7  3  2  4  5  0  7  6  5  1  4  3  1  2  3  2  5  6  4  0  4  3  7\n",
      "  1  2  7  0  4  5  6  3  3  3  8  8  8  8  9 10  8 10  8 10 10  9  8 10\n",
      "  9 11 10 10 11 11 12 10  9 13  9 13 12 10 10 11 11 11 12 14 14  9 13 14\n",
      " 11 11 10 10 10 15  9 13 13 15 11 13 10 10 11 11 11 13 13  3  3  1  4  7\n",
      " 16  0  4  2  0  2 17 16  3 17  7  3  0  1  3 16  1  0 16  3  2  3  7  2\n",
      "  4  1  7  3  4  2 18  7  5  4  0  1 18  0  2  5 18  3  7  5  7 19  0  4\n",
      " 19  2  4  3  3  3  3  7  6 20  2  3  4  5  0  1  3  6  5  3  7  6  3  4\n",
      " 20  2  3  4  1  3  4  2  6  5  7  2  3 20  2  5  0 20  4  5  7  3  2  6\n",
      "  7  3 20  6  0  4  3  0  1  5  6  1  5  7 21  0  3 19 21  3 19  7  3  3\n",
      " 19  2  0  4  3  3  7  7  7  4  3  5  0 22  5 23 22  0  2  3  7  1  4  2\n",
      " 23  4  0  3  5  0  1  6  7  1  7  2  3 17  5 23  1 23  2  7  4  2  3  7\n",
      " 17  5  0 23  7  4  1  3  0  2 23  6  3  5 23  4  7  5  1  0  4  2  3 19\n",
      "  2  6 19 23  6  5 23  0  7  7  4  0  6  2  7 23  6  5  3  1  0 23  2  3\n",
      "  7  4  5  7  1  0 23  5  2  6  4  0  2  1  7  0 19  4  7  4  5  3  7 24\n",
      "  5  3 23  6 24  7 23  4  6  0  3  5  0  5  3  6  1 23  2 23  1 25  5  2\n",
      "  3 25  7  3  1  6 19 23  0  6  2  2  4  4 26 27 26 26 28 28 27 26 27 28\n",
      " 27 28 28 26 26 27 27 28 26 28 25  3  2  0 16  2  3  2 17 16  0  2  3 17\n",
      "  0  6 25  0  6 17 16 25  6 16  2  6  4  1  4 25  3  1  0  4  1  3  4  3\n",
      "  3  0  4  7 23  7  4  2  3  0 16  4 23 22  3 22 23 16  0  2 16 22  0  2\n",
      " 16  3  7  2  1  4  0  7  2  3  0  6  1  3  7  4  3  0  3  7  4 24  3  7\n",
      "  6 24  1  3  6  1  3  0  6  3 23 25  4  3  4  1  0  4 29  2  6  3  1  0\n",
      "  6  1  3 29 23  2  6 29 23  1  6  2  3 23  2  6 29 23  0 29  4  2  6  0\n",
      "  1 22  4  1 22  0  6 22  0  4  1 22  4 22  0 30 24 22 30  4 24  0  2  2\n",
      "  0  6 23 29 21  0  6  3 21 23  3  4  0 29  4  2  3  0  2  6 29  6 21  4\n",
      "  3 23 29  4  3 23  0  4  1 23 29  1  6  3 23  2  4  2  0  6  2  0  1  6\n",
      "  1 30  3  2 30  4 23  2  3  0  0  6  3 31  4  6  7  5  6 32  3  4 32 31\n",
      "  4  3  5 31 23  4 32  6  5  2  3 32  6  2 23  5 32 23 32  2  4 21 23  6\n",
      "  3 21  6  5  4  2  5 21  2 23  3 21  4  3 32  2  5  6  2 23  3  4  4  3\n",
      "  7  4  3  5  2  4 32  6 31  2  6  7 31  5  3  2 32  7  6 32  5 31  7  3\n",
      "  5  4  3 31  4  6  3 31  6  2  4  5  2  6 32  5  7 32  4  7  5  2  4  6\n",
      " 32  7  3 31  2 32 31  3  7 22 22  6 26 28 28 27 26 28 28 26 27 28 26 28\n",
      " 26 28 26 27 27 28 28 26 26 28 27 26 28 28 26 27 28 28 27 26 28 27 26 28\n",
      " 26 28 26 28 27 26 28 28 26 27 28 26 28 26 28 27 26 28 26 27 28 26 26 28]\n",
      "Index(['Bangalore', 'Chandigarh', 'Delhi', 'Mumbai', 'Kolkata', 'Jaipur',\n",
      "       'Hyderabad', 'Chennai', 'Cape Town', 'Port Elizabeth', 'Durban',\n",
      "       'Centurion', 'East London', 'Johannesburg', 'Kimberley', 'Bloemfontein',\n",
      "       'Ahmedabad', 'Cuttack', 'Nagpur', 'Dharamsala', 'Kochi', 'Indore',\n",
      "       'Visakhapatnam', 'Pune', 'Raipur', 'Ranchi', 'Abu Dhabi', 'Sharjah',\n",
      "       'Dubai International Cricket Stadium', 'Rajkot', 'Kanpur', 'Mohali',\n",
      "       'Bengaluru'],\n",
      "      dtype='object')\n",
      "22\n"
     ]
    }
   ],
   "source": [
    "cat_list=df[\"city\"]\n",
    "encoded_data, mapping_index = pd.Series(cat_list).factorize() #to get numeric representation of array (Series is 1-D array holding data of any type)\n",
    "print(encoded_data)\n",
    "print(mapping_index)\n",
    "print(mapping_index.get_loc(\"Visakhapatnam\"))"
   ]
  },
  {
   "cell_type": "code",
   "execution_count": 20,
   "metadata": {
    "colab": {
     "base_uri": "https://localhost:8080/"
    },
    "id": "KkR4wQS02UHP",
    "outputId": "83e63091-7fdb-487f-cdec-90a2082adddf"
   },
   "outputs": [
    {
     "name": "stdout",
     "output_type": "stream",
     "text": [
      "[ 0  1  2  3  4  5  6  7  6  1  0  7  8  1  0  4  2  6  5  7  6  1  8  5\n",
      "  0  7  8  2  4  5  0  7  6  5  1  4  3  1  2  3  2  5  6  4  0  4  3  7\n",
      "  1  2  7  0  4  5  6  3  3  8  9  9  9  9 10 11  9 11  9 11 11 10  9 11\n",
      " 10 12 11 11 12 12 13 11 10 14 10 14 13 11 11 12 12 12 13 15 15 10 14 15\n",
      " 12 12 11 11 11 16 10 14 14 16 12 14 11 11 12 12 12 14 14  8 17  1  4  7\n",
      " 18  0  4  2  0  2 19 18 17 19  7 17  0  1 17 18  1  0 18  8  2 17  7  2\n",
      "  4  1  7 17  4  2 20  7  5  4  0  1 20  0  2  5 20 17  7  5  7 21  0  4\n",
      " 21  2  4  8  8  8  8  7  6 22  2  8  4  5  0  1  8  6  5  3  7  6  8  4\n",
      " 22  2  3  4  1  3  4  2  6  5  7  2  8 22  2  5  0 22  4  5  7  3  2  6\n",
      "  7  8 22  6  0  4  3  0  1  5  6  1  5  7 23  0  3 21 23  8 21  7  8  3\n",
      " 21  2  0  4  3  3  7  7  7  4  3  5  0 24  5 25 24  0  2  3  7  1  4  2\n",
      " 25  4  0  3  5  0  1  6  7  1  7  2  3 19  5 25  1 25  2  7  4  2  3  7\n",
      " 19  5  0 25  7  4  1  3  0  2 25  6  3  5 25  4  7  5  1  0  4  2  3 21\n",
      "  2  6 21 25  6  5 25  0  7  7  4  0  6  2  7 25  6  5  3  1  0 25  2  3\n",
      "  7  4  5  7  1  0 25  5  2  6  4  0  2  1  7  0 21  4  7  4  5  3  7 26\n",
      "  5  3 25  6 26  7 25  4  6  0  3  5  0  5  3  6  1 25  2 25  1 27  5  2\n",
      "  3 27  7  3  1  6 21 25  0  6  2  2  4  4 28 29 28 28 30 30 29 28 29 30\n",
      " 29 30 30 28 28 29 29 30 28 30 27  3  2  0 18  2  3  2 19 18  0  2  3 19\n",
      "  0  6 27  0  6 19 18 27  6 18  2  6  4  1  4 27  3  1  0  4  1  3  4 17\n",
      "  3  0  4  7 31  7  4  2  3  0 18  4 31 24  3 24 31 18  0  2 18 24  0  2\n",
      " 18  3  7  2  1  4  0  7  2  3  0  6  1 17  7  4  3  0 17  7  4 26  3  7\n",
      "  6 26  1  3  6  1 17  0  6  3 31 27  4  3  4 32  0  4 33  2  6  3 32  0\n",
      "  6 32  3 33 31  2  6 33 31 32  6  2  3 31  2  6 33 31  0 33  4  2  6  0\n",
      " 32 24  4 32 24  0  6 24  0  4 32 24  4 24  0 34 26 24 34  4 26  0  2  2\n",
      "  0  6 31 33 23  0  6  3 23 31  3  4  0 33  4  2  3  0  2  6 33  6 23  4\n",
      "  3 31 33  4  3 31  0  4 32 31 33 32  6  3 31  2  4  2  0  6  2  0 32  6\n",
      " 32 34  3  2 34  4 31  2  3  0  0  6  3 32  4  6  7  5  6  0  3  4  0 32\n",
      "  4  3  5 32 31  4  0  6  5  2  3  0  6  2 31  5  0 31  0  2  4 23 31  6\n",
      "  3 23  6  5  4  2  5 23  2 31  3 23  4  3  0  2  5  6  2 31  3  4  4  3\n",
      " 35  4  3  5 36  4 37 38 39 36 38 35 39  5  3 36 37 35 38 37  5 39 35  3\n",
      "  5  4  3 39  4 38  3 39 38 36  4  5 36 38 37  5 35 37  4 35  5 36  4 38\n",
      " 37 35  3 39 36 37 39  3 35 40 40 38 41 30 30 29 41 30 30 41 29 30 41 30\n",
      " 41 30 41 29 29 30 30 41 41 30 29 41 30 30 41 29 30 30 29 41 30 29 41 30\n",
      " 41 30 41 30 29 41 30 30 41 29 30 41 30 41 30 29 41 30 41 29 30 41 41 30]\n",
      "Index(['M Chinnaswamy Stadium', 'Punjab Cricket Association Stadium, Mohali',\n",
      "       'Feroz Shah Kotla', 'Wankhede Stadium', 'Eden Gardens',\n",
      "       'Sawai Mansingh Stadium', 'Rajiv Gandhi International Stadium, Uppal',\n",
      "       'MA Chidambaram Stadium, Chepauk', 'Dr DY Patil Sports Academy',\n",
      "       'Newlands', 'St George's Park', 'Kingsmead', 'SuperSport Park',\n",
      "       'Buffalo Park', 'New Wanderers Stadium', 'De Beers Diamond Oval',\n",
      "       'OUTsurance Oval', 'Brabourne Stadium', 'Sardar Patel Stadium, Motera',\n",
      "       'Barabati Stadium', 'Vidarbha Cricket Association Stadium, Jamtha',\n",
      "       'Himachal Pradesh Cricket Association Stadium', 'Nehru Stadium',\n",
      "       'Holkar Cricket Stadium',\n",
      "       'Dr. Y.S. Rajasekhara Reddy ACA-VDCA Cricket Stadium',\n",
      "       'Subrata Roy Sahara Stadium',\n",
      "       'Shaheed Veer Narayan Singh International Stadium',\n",
      "       'JSCA International Stadium Complex', 'Sheikh Zayed Stadium',\n",
      "       'Sharjah Cricket Stadium', 'Dubai International Cricket Stadium',\n",
      "       'Maharashtra Cricket Association Stadium',\n",
      "       'Punjab Cricket Association IS Bindra Stadium, Mohali',\n",
      "       'Saurashtra Cricket Association Stadium', 'Green Park',\n",
      "       'M. A. Chidambaram Stadium', 'Feroz Shah Kotla Ground',\n",
      "       'M. Chinnaswamy Stadium', 'Rajiv Gandhi Intl. Cricket Stadium',\n",
      "       'IS Bindra Stadium', 'ACA-VDCA Stadium',\n",
      "       'Sheikh Zayed Stadium, Abu Dhabi'],\n",
      "      dtype='object')\n",
      "24\n"
     ]
    }
   ],
   "source": [
    "cat_list1=df[\"venue\"]\n",
    "encoded_data1, mapping_index1 = pd.Series(cat_list1).factorize()\n",
    "print(encoded_data1)\n",
    "print(mapping_index1)\n",
    "print(mapping_index1.get_loc(\"Dr. Y.S. Rajasekhara Reddy ACA-VDCA Cricket Stadium\"))"
   ]
  },
  {
   "cell_type": "code",
   "execution_count": 21,
   "metadata": {
    "colab": {
     "base_uri": "https://localhost:8080/"
    },
    "id": "Dy1RYNiy2UHP",
    "outputId": "bd37d2dd-bd79-43fa-9ae3-b9328d637cad"
   },
   "outputs": [
    {
     "name": "stdout",
     "output_type": "stream",
     "text": [
      "[0 1 1 1 1 1 1 0 0 0 0 1 0 1 1 1 0 0 1 1 1 1 0 1 0 0 0 0 1 0 0 0 1 0 1 1 0\n",
      " 0 0 0 1 0 0 1 0 0 0 1 0 0 1 0 1 0 1 0 1 0 0 1 0 1 1 0 1 1 0 1 1 1 1 0 1 1\n",
      " 1 1 0 0 1 1 1 0 1 1 1 0 1 1 0 1 1 0 1 1 0 1 0 1 0 1 1 0 1 0 0 1 1 1 0 1 0\n",
      " 1 0 0 0 0 1 0 0 1 0 1 1 0 0 1 0 1 1 1 0 1 0 0 0 1 1 0 1 0 1 0 1 1 1 1 1 1\n",
      " 1 1 1 1 1 1 0 1 1 0 1 0 0 1 1 1 1 0 0 1 0 1 1 1 1 1 1 1 0 1 1 1 1 1 0 0 1\n",
      " 0 0 0 1 0 0 0 0 1 1 0 0 0 0 0 0 0 0 0 1 0 0 0 0 1 0 0 1 0 0 0 1 0 0 0 0 1\n",
      " 0 1 1 0 1 0 0 1 0 0 1 0 0 0 1 1 0 1 0 1 0 0 0 0 0 1 0 0 0 0 0 0 0 1 1 0 0\n",
      " 0 1 0 1 1 1 0 1 0 1 1 1 1 0 0 1 0 1 0 0 1 1 1 0 1 1 1 0 1 1 1 0 1 1 1 1 0\n",
      " 0 1 1 0 0 0 0 1 0 1 1 0 0 1 0 0 0 1 0 1 0 1 1 0 0 1 0 0 0 1 1 1 1 0 1 0 0\n",
      " 1 1 1 0 1 0 1 0 0 0 1 1 1 1 0 1 0 1 0 0 1 1 1 1 1 0 0 0 1 1 1 1 1 1 1 1 0\n",
      " 1 1 1 1 1 0 0 1 0 1 0 0 0 0 1 0 1 0 0 1 0 1 0 1 1 1 1 1 1 0 1 0 0 1 0 1 0\n",
      " 0 0 1 1 0 0 1 1 0 1 0 1 1 0 0 0 0 0 1 0 0 0 0 0 0 1 1 1 0 0 0 0 1 1 1 0 1\n",
      " 0 0 0 0 0 0 0 0 0 0 0 0 0 0 0 0 0 1 0 0 0 0 1 0 1 0 1 1 0 1 0 0 0 0 0 0 0\n",
      " 1 1 0 0 1 0 0 0 0 0 0 1 0 1 0 1 0 0 1 1 1 1 1 1 1 0 0 1 1 1 0 1 1 1 0 0 1\n",
      " 0 0 0 0 1 0 1 0 1 0 0 0 0 0 0 0 0 1 0 0 0 0 0 0 0 0 0 0 0 0 0 0 0 0 0 0 0\n",
      " 0 1 0 0 1 0 1 1 0 0 0 0 0 0 1 0 0 0 0 0 0 1 0 0 0 0 1 0 0 1 0 0 0 0 0 0 1\n",
      " 0 0 1 0 0 1 0 0 0 0 0 0 0 0 0 0 0 0 1 0 0 1 0 0 0 0 0 0 0 0 0 1 0 0 0 1 0\n",
      " 0 0 1 0 0 0 1 0 0 0 0 0 0 0 0 0 0 0 0 0 0 0 1 0 0 0 0 1 0 0 0 0 0 0 1 0 0\n",
      " 0 0 0 0 0 1 0 0 0 1 0 1 1 0 0 0 0 0 0 0 0 0 1 1 1 0 0 0 0 0 0 0 0 0 1 0 0\n",
      " 1 0 0 0 0 0 0 0 0 0 1 0 0 0 0 0 0 0 0 0 0 0 0 0 0 1 1 0 0 0 0 0 0 0 0 0 0\n",
      " 0 1 0 0 0 0 1 0 1 0 0 0 1 0 0 1 0 0 0 0 0 0 0 1 0 0 0 0 0 1 1 0 1 1 0 1 1\n",
      " 1 0 1 1 1 1 1 1 1 1 1 1 1 0 1 1 1 1 0 0 0 0 1 1 0 0 0 0 0 0 0 0 0 0 0 0 0\n",
      " 1 1]\n",
      "Index(['field', 'bat'], dtype='object')\n",
      "0\n"
     ]
    }
   ],
   "source": [
    "cat_list2=df[\"toss_decision\"]\n",
    "encoded_data2, mapping_index2 = pd.Series(cat_list2).factorize()\n",
    "print(encoded_data2)\n",
    "print(mapping_index2)\n",
    "print(mapping_index2.get_loc(\"field\"))"
   ]
  },
  {
   "cell_type": "code",
   "execution_count": 22,
   "metadata": {
    "colab": {
     "base_uri": "https://localhost:8080/"
    },
    "id": "52rA7ivN2UHQ",
    "outputId": "2d4b11c1-b8e9-4879-bd23-f08ca26bc08a"
   },
   "outputs": [
    {
     "name": "stdout",
     "output_type": "stream",
     "text": [
      "No of toss winners by each team\n",
      "MI -> 106\n",
      "DC -> 100\n",
      "KKR -> 98\n",
      "CSK -> 97\n",
      "RR -> 87\n",
      "RCB -> 87\n",
      "KXIP -> 85\n",
      "SRH -> 57\n",
      "DCH -> 43\n",
      "PW -> 20\n",
      "GL -> 15\n",
      "RPS -> 13\n",
      "KTK -> 8\n",
      "No of match winners by each team\n",
      "MI -> 120\n",
      "CSK -> 106\n",
      "KKR -> 99\n",
      "RCB -> 91\n",
      "KXIP -> 88\n",
      "DC -> 86\n",
      "RR -> 81\n",
      "SRH -> 66\n",
      "DCH -> 29\n",
      "RPS -> 15\n",
      "GL -> 13\n",
      "PW -> 12\n",
      "KTK -> 6\n",
      "Draw -> 4\n"
     ]
    }
   ],
   "source": [
    "#Find some stats on the match winners and toss winners\n",
    "temp1=df['toss_winner'].value_counts(sort=True) #gives count of unique values in descending order\n",
    "temp2=df['winner'].value_counts(sort=True)\n",
    "#Mumbai won most toss and also most matches\n",
    "print('No of toss winners by each team')\n",
    "\n",
    "for idx, val in temp1.iteritems():\n",
    "    print('{} -> {}'.format(list(dicVal.keys())[list(dicVal.values()).index(idx)],val))\n",
    "print('No of match winners by each team')\n",
    "for idx, val in temp2.iteritems():\n",
    "    print('{} -> {}'.format(list(dicVal.keys())[list(dicVal.values()).index(idx)],val))"
   ]
  },
  {
   "cell_type": "code",
   "execution_count": 23,
   "metadata": {
    "colab": {
     "base_uri": "https://localhost:8080/",
     "height": 282
    },
    "id": "4ROe3lFi2UHQ",
    "outputId": "6d93f464-dd84-4b02-ced8-e063121d3cf7"
   },
   "outputs": [
    {
     "data": {
      "text/plain": [
       "<AxesSubplot:>"
      ]
     },
     "execution_count": 23,
     "metadata": {},
     "output_type": "execute_result"
    },
    {
     "data": {
      "image/png": "[encoded data removed]",
      "text/plain": [
       "<Figure size 432x288 with 1 Axes>"
      ]
     },
     "metadata": {
      "needs_background": "light"
     },
     "output_type": "display_data"
    }
   ],
   "source": [
    "df['toss_winner'].hist(bins =50)"
   ]
  },
  {
   "cell_type": "code",
   "execution_count": 24,
   "metadata": {
    "colab": {
     "base_uri": "https://localhost:8080/",
     "height": 282
    },
    "id": "qTirVcTI2UHR",
    "outputId": "a6307e3c-9820-425b-c6e3-fcff49520c31"
   },
   "outputs": [
    {
     "data": {
      "text/plain": [
       "<AxesSubplot:>"
      ]
     },
     "execution_count": 24,
     "metadata": {},
     "output_type": "execute_result"
    },
    {
     "data": {
      "image/png": "[encoded data removed]",
      "text/plain": [
       "<Figure size 432x288 with 1 Axes>"
      ]
     },
     "metadata": {
      "needs_background": "light"
     },
     "output_type": "display_data"
    }
   ],
   "source": [
    "#shows that Mumbai won most matches followed by Chennai\n",
    "df['winner'].hist(bins=50)"
   ]
  },
  {
   "cell_type": "code",
   "execution_count": 25,
   "metadata": {
    "colab": {
     "base_uri": "https://localhost:8080/",
     "height": 316
    },
    "id": "BEq9QaM92UHR",
    "outputId": "685349a5-137c-4f14-c3c0-f66c1766ba8b"
   },
   "outputs": [
    {
     "data": {
      "text/plain": [
       "Text(0.5, 1.0, 'Match winners')"
      ]
     },
     "execution_count": 25,
     "metadata": {},
     "output_type": "execute_result"
    },
    {
     "data": {
      "image/png": "[encoded data removed]",
      "text/plain": [
       "<Figure size 576x288 with 2 Axes>"
      ]
     },
     "metadata": {
      "needs_background": "light"
     },
     "output_type": "display_data"
    }
   ],
   "source": [
    "import matplotlib.pyplot as plt\n",
    "fig = plt.figure(figsize=(8,4))\n",
    "ax1 = fig.add_subplot(121)\n",
    "ax1.set_xlabel('toss_winner')\n",
    "ax1.set_ylabel('Count of toss winners')\n",
    "ax1.set_title(\"toss winners\")\n",
    "temp1.plot(kind='bar')\n",
    "\n",
    "ax2 = fig.add_subplot(122)\n",
    "temp2.plot(kind = 'bar')\n",
    "ax2.set_xlabel('winner')\n",
    "ax2.set_ylabel('Count of match winners')\n",
    "ax2.set_title(\"Match winners\")"
   ]
  },
  {
   "cell_type": "code",
   "execution_count": 26,
   "metadata": {
    "colab": {
     "base_uri": "https://localhost:8080/"
    },
    "id": "gXUCw-UB2UHS",
    "outputId": "64f1a1f2-bb68-4398-e782-4341fd8a0496"
   },
   "outputs": [
    {
     "data": {
      "text/plain": [
       "team1            0\n",
       "team2            0\n",
       "city             0\n",
       "toss_decision    0\n",
       "toss_winner      0\n",
       "venue            0\n",
       "winner           0\n",
       "dtype: int64"
      ]
     },
     "execution_count": 26,
     "metadata": {},
     "output_type": "execute_result"
    }
   ],
   "source": [
    " df.apply(lambda x: sum(x.isnull()),axis=0) \n",
    "    #find the null values in every column"
   ]
  },
  {
   "cell_type": "code",
   "execution_count": 27,
   "metadata": {
    "colab": {
     "base_uri": "https://localhost:8080/",
     "height": 49
    },
    "id": "DcidgM2c2UHS",
    "outputId": "0e143012-6894-4d42-840f-0d59c246fde0"
   },
   "outputs": [
    {
     "data": {
      "text/html": [
       "<div>\n",
       "<style scoped>\n",
       "    .dataframe tbody tr th:only-of-type {\n",
       "        vertical-align: middle;\n",
       "    }\n",
       "\n",
       "    .dataframe tbody tr th {\n",
       "        vertical-align: top;\n",
       "    }\n",
       "\n",
       "    .dataframe thead th {\n",
       "        text-align: right;\n",
       "    }\n",
       "</style>\n",
       "<table border=\"1\" class=\"dataframe\">\n",
       "  <thead>\n",
       "    <tr style=\"text-align: right;\">\n",
       "      <th></th>\n",
       "      <th>team1</th>\n",
       "      <th>team2</th>\n",
       "      <th>city</th>\n",
       "      <th>toss_decision</th>\n",
       "      <th>toss_winner</th>\n",
       "      <th>venue</th>\n",
       "      <th>winner</th>\n",
       "    </tr>\n",
       "  </thead>\n",
       "  <tbody>\n",
       "  </tbody>\n",
       "</table>\n",
       "</div>"
      ],
      "text/plain": [
       "Empty DataFrame\n",
       "Columns: [team1, team2, city, toss_decision, toss_winner, venue, winner]\n",
       "Index: []"
      ]
     },
     "execution_count": 27,
     "metadata": {},
     "output_type": "execute_result"
    }
   ],
   "source": [
    "#Find cities which are null\n",
    "df[pd.isnull(df['city'])]"
   ]
  },
  {
   "cell_type": "code",
   "execution_count": 28,
   "metadata": {
    "colab": {
     "base_uri": "https://localhost:8080/",
     "height": 419
    },
    "id": "XNWE89T42UHT",
    "outputId": "0ad9154a-8031-474b-ecdc-87a44308a2c8"
   },
   "outputs": [
    {
     "data": {
      "text/html": [
       "<div>\n",
       "<style scoped>\n",
       "    .dataframe tbody tr th:only-of-type {\n",
       "        vertical-align: middle;\n",
       "    }\n",
       "\n",
       "    .dataframe tbody tr th {\n",
       "        vertical-align: top;\n",
       "    }\n",
       "\n",
       "    .dataframe thead th {\n",
       "        text-align: right;\n",
       "    }\n",
       "</style>\n",
       "<table border=\"1\" class=\"dataframe\">\n",
       "  <thead>\n",
       "    <tr style=\"text-align: right;\">\n",
       "      <th></th>\n",
       "      <th>team1</th>\n",
       "      <th>team2</th>\n",
       "      <th>city</th>\n",
       "      <th>toss_decision</th>\n",
       "      <th>toss_winner</th>\n",
       "      <th>venue</th>\n",
       "      <th>winner</th>\n",
       "    </tr>\n",
       "  </thead>\n",
       "  <tbody>\n",
       "    <tr>\n",
       "      <th>0</th>\n",
       "      <td>2</td>\n",
       "      <td>3</td>\n",
       "      <td>Bangalore</td>\n",
       "      <td>field</td>\n",
       "      <td>3</td>\n",
       "      <td>M Chinnaswamy Stadium</td>\n",
       "      <td>2</td>\n",
       "    </tr>\n",
       "    <tr>\n",
       "      <th>1</th>\n",
       "      <td>5</td>\n",
       "      <td>8</td>\n",
       "      <td>Chandigarh</td>\n",
       "      <td>bat</td>\n",
       "      <td>5</td>\n",
       "      <td>Punjab Cricket Association Stadium, Mohali</td>\n",
       "      <td>5</td>\n",
       "    </tr>\n",
       "    <tr>\n",
       "      <th>2</th>\n",
       "      <td>6</td>\n",
       "      <td>13</td>\n",
       "      <td>Delhi</td>\n",
       "      <td>bat</td>\n",
       "      <td>6</td>\n",
       "      <td>Feroz Shah Kotla</td>\n",
       "      <td>13</td>\n",
       "    </tr>\n",
       "    <tr>\n",
       "      <th>3</th>\n",
       "      <td>1</td>\n",
       "      <td>3</td>\n",
       "      <td>Mumbai</td>\n",
       "      <td>bat</td>\n",
       "      <td>1</td>\n",
       "      <td>Wankhede Stadium</td>\n",
       "      <td>3</td>\n",
       "    </tr>\n",
       "    <tr>\n",
       "      <th>4</th>\n",
       "      <td>4</td>\n",
       "      <td>2</td>\n",
       "      <td>Kolkata</td>\n",
       "      <td>bat</td>\n",
       "      <td>4</td>\n",
       "      <td>Eden Gardens</td>\n",
       "      <td>2</td>\n",
       "    </tr>\n",
       "    <tr>\n",
       "      <th>...</th>\n",
       "      <td>...</td>\n",
       "      <td>...</td>\n",
       "      <td>...</td>\n",
       "      <td>...</td>\n",
       "      <td>...</td>\n",
       "      <td>...</td>\n",
       "      <td>...</td>\n",
       "    </tr>\n",
       "    <tr>\n",
       "      <th>811</th>\n",
       "      <td>9</td>\n",
       "      <td>1</td>\n",
       "      <td>Sharjah</td>\n",
       "      <td>field</td>\n",
       "      <td>9</td>\n",
       "      <td>Sharjah Cricket Stadium</td>\n",
       "      <td>9</td>\n",
       "    </tr>\n",
       "    <tr>\n",
       "      <th>812</th>\n",
       "      <td>13</td>\n",
       "      <td>1</td>\n",
       "      <td>Dubai International Cricket Stadium</td>\n",
       "      <td>field</td>\n",
       "      <td>13</td>\n",
       "      <td>Dubai International Cricket Stadium</td>\n",
       "      <td>1</td>\n",
       "    </tr>\n",
       "    <tr>\n",
       "      <th>813</th>\n",
       "      <td>3</td>\n",
       "      <td>9</td>\n",
       "      <td>Abu Dhabi</td>\n",
       "      <td>field</td>\n",
       "      <td>9</td>\n",
       "      <td>Sheikh Zayed Stadium, Abu Dhabi</td>\n",
       "      <td>9</td>\n",
       "    </tr>\n",
       "    <tr>\n",
       "      <th>814</th>\n",
       "      <td>13</td>\n",
       "      <td>9</td>\n",
       "      <td>Abu Dhabi</td>\n",
       "      <td>bat</td>\n",
       "      <td>13</td>\n",
       "      <td>Sheikh Zayed Stadium, Abu Dhabi</td>\n",
       "      <td>13</td>\n",
       "    </tr>\n",
       "    <tr>\n",
       "      <th>815</th>\n",
       "      <td>13</td>\n",
       "      <td>1</td>\n",
       "      <td>Dubai International Cricket Stadium</td>\n",
       "      <td>bat</td>\n",
       "      <td>13</td>\n",
       "      <td>Dubai International Cricket Stadium</td>\n",
       "      <td>1</td>\n",
       "    </tr>\n",
       "  </tbody>\n",
       "</table>\n",
       "<p>816 rows × 7 columns</p>\n",
       "</div>"
      ],
      "text/plain": [
       "     team1  team2                                 city toss_decision  \\\n",
       "0        2      3                            Bangalore         field   \n",
       "1        5      8                           Chandigarh           bat   \n",
       "2        6     13                                Delhi           bat   \n",
       "3        1      3                               Mumbai           bat   \n",
       "4        4      2                              Kolkata           bat   \n",
       "..     ...    ...                                  ...           ...   \n",
       "811      9      1                              Sharjah         field   \n",
       "812     13      1  Dubai International Cricket Stadium         field   \n",
       "813      3      9                            Abu Dhabi         field   \n",
       "814     13      9                            Abu Dhabi           bat   \n",
       "815     13      1  Dubai International Cricket Stadium           bat   \n",
       "\n",
       "     toss_winner                                       venue  winner  \n",
       "0              3                       M Chinnaswamy Stadium       2  \n",
       "1              5  Punjab Cricket Association Stadium, Mohali       5  \n",
       "2              6                            Feroz Shah Kotla      13  \n",
       "3              1                            Wankhede Stadium       3  \n",
       "4              4                                Eden Gardens       2  \n",
       "..           ...                                         ...     ...  \n",
       "811            9                     Sharjah Cricket Stadium       9  \n",
       "812           13         Dubai International Cricket Stadium       1  \n",
       "813            9             Sheikh Zayed Stadium, Abu Dhabi       9  \n",
       "814           13             Sheikh Zayed Stadium, Abu Dhabi      13  \n",
       "815           13         Dubai International Cricket Stadium       1  \n",
       "\n",
       "[816 rows x 7 columns]"
      ]
     },
     "execution_count": 28,
     "metadata": {},
     "output_type": "execute_result"
    }
   ],
   "source": [
    "df"
   ]
  },
  {
   "cell_type": "code",
   "execution_count": 29,
   "metadata": {
    "colab": {
     "base_uri": "https://localhost:8080/",
     "height": 419
    },
    "id": "LFS8MBCu2UHT",
    "outputId": "b495279e-ea1a-4e79-faa1-0b4280613220"
   },
   "outputs": [
    {
     "data": {
      "text/html": [
       "<div>\n",
       "<style scoped>\n",
       "    .dataframe tbody tr th:only-of-type {\n",
       "        vertical-align: middle;\n",
       "    }\n",
       "\n",
       "    .dataframe tbody tr th {\n",
       "        vertical-align: top;\n",
       "    }\n",
       "\n",
       "    .dataframe thead th {\n",
       "        text-align: right;\n",
       "    }\n",
       "</style>\n",
       "<table border=\"1\" class=\"dataframe\">\n",
       "  <thead>\n",
       "    <tr style=\"text-align: right;\">\n",
       "      <th></th>\n",
       "      <th>team1</th>\n",
       "      <th>team2</th>\n",
       "      <th>city</th>\n",
       "      <th>toss_decision</th>\n",
       "      <th>toss_winner</th>\n",
       "      <th>venue</th>\n",
       "      <th>winner</th>\n",
       "    </tr>\n",
       "  </thead>\n",
       "  <tbody>\n",
       "    <tr>\n",
       "      <th>0</th>\n",
       "      <td>2</td>\n",
       "      <td>3</td>\n",
       "      <td>2</td>\n",
       "      <td>1</td>\n",
       "      <td>3</td>\n",
       "      <td>17</td>\n",
       "      <td>2</td>\n",
       "    </tr>\n",
       "    <tr>\n",
       "      <th>1</th>\n",
       "      <td>5</td>\n",
       "      <td>8</td>\n",
       "      <td>7</td>\n",
       "      <td>0</td>\n",
       "      <td>5</td>\n",
       "      <td>27</td>\n",
       "      <td>5</td>\n",
       "    </tr>\n",
       "    <tr>\n",
       "      <th>2</th>\n",
       "      <td>6</td>\n",
       "      <td>13</td>\n",
       "      <td>10</td>\n",
       "      <td>0</td>\n",
       "      <td>6</td>\n",
       "      <td>9</td>\n",
       "      <td>13</td>\n",
       "    </tr>\n",
       "    <tr>\n",
       "      <th>3</th>\n",
       "      <td>1</td>\n",
       "      <td>3</td>\n",
       "      <td>24</td>\n",
       "      <td>0</td>\n",
       "      <td>1</td>\n",
       "      <td>41</td>\n",
       "      <td>3</td>\n",
       "    </tr>\n",
       "    <tr>\n",
       "      <th>4</th>\n",
       "      <td>4</td>\n",
       "      <td>2</td>\n",
       "      <td>22</td>\n",
       "      <td>0</td>\n",
       "      <td>4</td>\n",
       "      <td>8</td>\n",
       "      <td>2</td>\n",
       "    </tr>\n",
       "    <tr>\n",
       "      <th>...</th>\n",
       "      <td>...</td>\n",
       "      <td>...</td>\n",
       "      <td>...</td>\n",
       "      <td>...</td>\n",
       "      <td>...</td>\n",
       "      <td>...</td>\n",
       "      <td>...</td>\n",
       "    </tr>\n",
       "    <tr>\n",
       "      <th>811</th>\n",
       "      <td>9</td>\n",
       "      <td>1</td>\n",
       "      <td>31</td>\n",
       "      <td>1</td>\n",
       "      <td>9</td>\n",
       "      <td>34</td>\n",
       "      <td>9</td>\n",
       "    </tr>\n",
       "    <tr>\n",
       "      <th>812</th>\n",
       "      <td>13</td>\n",
       "      <td>1</td>\n",
       "      <td>12</td>\n",
       "      <td>1</td>\n",
       "      <td>13</td>\n",
       "      <td>7</td>\n",
       "      <td>1</td>\n",
       "    </tr>\n",
       "    <tr>\n",
       "      <th>813</th>\n",
       "      <td>3</td>\n",
       "      <td>9</td>\n",
       "      <td>0</td>\n",
       "      <td>1</td>\n",
       "      <td>9</td>\n",
       "      <td>36</td>\n",
       "      <td>9</td>\n",
       "    </tr>\n",
       "    <tr>\n",
       "      <th>814</th>\n",
       "      <td>13</td>\n",
       "      <td>9</td>\n",
       "      <td>0</td>\n",
       "      <td>0</td>\n",
       "      <td>13</td>\n",
       "      <td>36</td>\n",
       "      <td>13</td>\n",
       "    </tr>\n",
       "    <tr>\n",
       "      <th>815</th>\n",
       "      <td>13</td>\n",
       "      <td>1</td>\n",
       "      <td>12</td>\n",
       "      <td>0</td>\n",
       "      <td>13</td>\n",
       "      <td>7</td>\n",
       "      <td>1</td>\n",
       "    </tr>\n",
       "  </tbody>\n",
       "</table>\n",
       "<p>816 rows × 7 columns</p>\n",
       "</div>"
      ],
      "text/plain": [
       "     team1  team2  city  toss_decision  toss_winner  venue  winner\n",
       "0        2      3     2              1            3     17       2\n",
       "1        5      8     7              0            5     27       5\n",
       "2        6     13    10              0            6      9      13\n",
       "3        1      3    24              0            1     41       3\n",
       "4        4      2    22              0            4      8       2\n",
       "..     ...    ...   ...            ...          ...    ...     ...\n",
       "811      9      1    31              1            9     34       9\n",
       "812     13      1    12              1           13      7       1\n",
       "813      3      9     0              1            9     36       9\n",
       "814     13      9     0              0           13     36      13\n",
       "815     13      1    12              0           13      7       1\n",
       "\n",
       "[816 rows x 7 columns]"
      ]
     },
     "execution_count": 29,
     "metadata": {},
     "output_type": "execute_result"
    }
   ],
   "source": [
    "#building predictive model , convert categorical to numerical data\n",
    "from sklearn.preprocessing import LabelEncoder\n",
    "var_mod = ['city','toss_decision','venue']\n",
    "le = LabelEncoder()\n",
    "for i in var_mod:\n",
    "    df[i] = le.fit_transform(df[i])\n",
    "df "
   ]
  },
  {
   "cell_type": "code",
   "execution_count": 30,
   "metadata": {
    "id": "pSTXK2Wx2UHT"
   },
   "outputs": [],
   "source": [
    "#Import models from scikit learn module:\n",
    "from sklearn.linear_model import LogisticRegression\n",
    "from sklearn.model_selection import KFold   #For K-fold cross validation\n",
    "from sklearn.ensemble import RandomForestClassifier\n",
    "from sklearn.tree import DecisionTreeClassifier, export_graphviz\n",
    "from sklearn import metrics\n",
    "\n",
    "#Generic function for making a classification model and accessing performance:\n",
    "def classification_model(model, data, predictors, outcome):\n",
    "      model.fit(data[predictors],data[outcome].values.ravel())\n",
    "      predictions = model.predict(data[predictors])\n",
    "      print(predictions)\n",
    "      accuracy = metrics.accuracy_score(predictions,data[outcome])\n",
    "      print('Accuracy : %s' % '{0:.3%}'.format(accuracy))"
   ]
  },
  {
   "cell_type": "code",
   "execution_count": 31,
   "metadata": {
    "collapsed": true,
    "jupyter": {
     "outputs_hidden": true,
     "source_hidden": true
    }
   },
   "outputs": [
    {
     "name": "stdout",
     "output_type": "stream",
     "text": [
      "[ 3  5 13  1  2  6 13  3  1  3  3  5  2 13  5  1  8  3  1 13  1  6 13  6\n",
      "  3  3  2  8  2  1  3  3  1  8  5 13  1  8  8  1 13  1  1  2 13  2  1  5\n",
      "  3 13  5  3  2  1  5  6  6  2  3  5 13  5  1  2  5 13  3  5  1  5  5  3\n",
      "  1  6  1  5  6  6  2  5  1 13  1  1  5  8 13  1  3  6 13  2  5  1 13  5\n",
      "  1  6  8  5  1  8  1  1  2 13  6  6  2  5  6  6  8  1  1  2  2 13  2  5\n",
      " 13  5  2 13  3 13  3  6  2 13  8  2  3  8  2  6  5 14  6  2 13  2  5 13\n",
      "  2  6  5  2  5 13  1  1  6 13  3  5  1  3 13  1  1 13  5  1 13  3  3  2\n",
      "  8 13  1  2  2  2  2  5  1  5  5 13  2  6  3  3 13  1  1  1  5  3 13  2\n",
      "  8 13  6  2  8  1  2 13  1  8 13  8 13  8 13  1 13 13  2  8  5  1 13  1\n",
      "  5  2  2 13  3  2  1 14 13  1 13  3  1 13 13  3  1 13 13  2  5 13  2  1\n",
      "  3 13  3  2  1  1  3  5  3 13  6  8 13  2  1  6  2  3 13  1  5  8  2 13\n",
      "  6  2  5  1  5 14  6 13 13  3  5 13  1  2  1 13  6  6  8  5  2 13  1  5\n",
      " 13 13  3  5  5 13  5  1  3 13  6  8  1  1  1  1  8 13  5  3  2 13  1  3\n",
      " 13  6 13  5  1  1  5  3 13  5  2  3 13 13  5  6  5  1  5  8  3 13 13  6\n",
      "  3  5  8 13  3 14  8  1 13 13  2  3 13  8  5 13 13  1  5  2  6  1  3 13\n",
      "  1  1  6  5  5  5  5  2 13  3  1  6  5  6  1  8  8  5 13  6  8  1  1 13\n",
      "  6  2 13  1  3  6  2 13  3  5  2 13  2  2  1  8  6  8  2 13  1 13  8  2\n",
      "  1 13  5  3  3  5  6  3  6  2  1  1  8  3  3  8  1 13  2  8  3 13  1  2\n",
      "  5  6  2 13  8  2 13  1  6  5 13  5  2  3  2  2  1  8  3  2  8  1  2  2\n",
      "  6  3  2 13  2  5  2  8  1  3  5  2 13  2  1 13  2  6  3  8  8  2  3  8\n",
      "  3  1  5  8  8 13  3  3 13  1  3  8  5 13  5  2  6  3  2  1  2 13  1  5\n",
      " 13 13  3  1  6  6  2 14  6  1  1  2  2  6  2  8  3  2  6 13  6  1 13 13\n",
      "  1  3  1  8  1  8  8  1  2  3  8 13  1  8  8  8  8  2  3 13  2 13  8  8\n",
      " 13  2  2  3 13  3 13  2  3  2 13  2  2 13  3  2 13 13  2  2  8  3  2 13\n",
      "  5  8  1  1 13 13  8  1  5 13  1  2  3  8  2 13  1  8 13  8  1 13  2  2\n",
      "  1 13  8  2  1  2  3  2  8  2  1  8  8  1  8 13  2 13  3  8 13  3  8  5\n",
      "  3 13  1 13  8  2  8 13  1  3  3  5  1  8  2  8  3 13  1  3  1  2  3  8\n",
      " 13  1  1 13  2  2  8  8  1 13  1  3  8  8  1  6  3 13  3  8  2  2  1 13\n",
      "  1  8  8  6  2 13  6  3  8  2  1  2  2  1  3  8  1  6  5  2  6  2  2  6\n",
      "  3  2  8  8 13  2  3  5  1 13  8  3 13  1  1 13  3  5  1 13  1  8  3  1\n",
      "  1 13  1  2  2  8  1  2  5 13  2  1 13  1  3 13  8  3  2  3  8 13  2  8\n",
      "  3 13  1  2 13  3  2  1  1 13  2  1  3 13  3  1  1  2 13  6  1  2 13  2\n",
      "  3 13  6  8  1  5 13  6  6 13  8  6  5 13  6  1 13 13  1  1  5  9  3  5\n",
      "  6 13  1 13  1  6 13  5  6  1 13  1  2  8  2  1  8  3  6  1  3  3 13  5]\n",
      "Accuracy : 32.721%\n"
     ]
    },
    {
     "name": "stderr",
     "output_type": "stream",
     "text": [
      "C:\\Users\\Shubham\\anaconda3\\lib\\site-packages\\sklearn\\linear_model\\_logistic.py:762: ConvergenceWarning: lbfgs failed to converge (status=1):\n",
      "STOP: TOTAL NO. of ITERATIONS REACHED LIMIT.\n",
      "\n",
      "Increase the number of iterations (max_iter) or scale the data as shown in:\n",
      "    https://scikit-learn.org/stable/modules/preprocessing.html\n",
      "Please also refer to the documentation for alternative solver options:\n",
      "    https://scikit-learn.org/stable/modules/linear_model.html#logistic-regression\n",
      "  n_iter_i = _check_optimize_result(\n"
     ]
    }
   ],
   "source": [
    "#logistic Regression\n",
    "outcome_var=['winner']\n",
    "predictor_var = ['team1', 'team2', 'venue', 'toss_winner','city','toss_decision']\n",
    "model =LogisticRegression()\n",
    "classification_model(model, df,predictor_var,outcome_var)"
   ]
  },
  {
   "cell_type": "code",
   "execution_count": 32,
   "metadata": {},
   "outputs": [
    {
     "name": "stdout",
     "output_type": "stream",
     "text": [
      "[ 3  5 13  1  2  6 13  5  6  8  3  5  1  8  5  1  3  8  6 13  4  1  1  6\n",
      "  8  5  1  5  2  6  1  5  2  6  8  2  1  8  3  1  8  2  1  5  3  6  8  5\n",
      "  8  1  5  3  2  6  3  1  5  3  1  1 13  4  4  2  4  5  4  3  3  2  7  2\n",
      "  1 13  4  3 13  5  3  3  5  5  5  4  3  5  3  2  5  5 13  4  4  1  4  4\n",
      "  3  1  2  3  3  8  1  4  3  8  2  3  2  3 13  3  1  4  4  1  1 13  2  3\n",
      " 13  3  2  1  3 13  4  6  1  4  5  1  3  8  1  6  1  3  6  1  2  1  5 13\n",
      "  2  2  5  1  2  2  4  1  6  2  3  1  4  3  8  6  4  2  5  6 13  4  1  2\n",
      "  4  4  2  1  3  5  5  2  6  3  1 12  2  6  1  8 12  4  2  1  5  8 12  2\n",
      "  4  4  1  2  8  5  2  8  1  6  5  3  2  4  1  6  3 13  2  6  5  1 10  1\n",
      "  5  1  2 13  8  2 13  3  9  6 13  8  2 13  8  3  1  8  8  2  4 13  2  1\n",
      "  4 12  3  1  5  1  1  5  5 13 10  6  3  1  2  6  1  3 13  1  5  8  2  4\n",
      "  4  2  3 13  6  3  1 13  5  8  5 11  1  2  6  9  1  3 13  5  2 13  1  2\n",
      "  4  6  8  2  5  2  6  1  3  2  6  9  1  5  1  2  5  6  8  1  5 13  1  4\n",
      "  3  3  8  2  4  6  2  1  5  2  2  1  9 13  5  6  9  2  1  8  3 12  9  1\n",
      "  5  2  6  5  8  3  9  6  4  9  5  3  1  8  5  3  8  1  5  2  6  1  5 13\n",
      "  6  1  4  9 13  5  2  2  9  8  1  6  3  6  1  5  8  2  3  1  9  2  6  8\n",
      "  1  2 13  1  8  9  4  9  3  9  5  6  2  5  1 13  5  6  5 13  8  5  8  2\n",
      "  1  9  5  6  2 13  5  2  6  9  5  1  6  3  6  5  1  2  2  6  8  9  5  2\n",
      "  3  1  5  3  9  2 13  5  2  6  8  9  2  8  2  5 13  8  3  2  8  1  2  1\n",
      "  5  2  1  5  5  5  2  6  8  3  6  2 10  5  1  9  2  6  1 13  6  9  3 13\n",
      "  6  1  5  3  9  2  3  5 13  1  3  9  1  1  5  2  1  8  4  1  2 13  1  5\n",
      "  9 13  8  1  2  3  5  3  1  1  5  5  5  1  2  7  3  1  7 13  2  1  9  3\n",
      "  9  8  1  8 10 13  9  3  2  1 10 13  1  5 13  9  8  2  2 13  2  9  9  3\n",
      " 13  9  7  8 10  1  9  1  3  2  9  1  2  9  8  7 13  6  7  2  3  3  9  9\n",
      "  3  9  3  1  8  3  9  1  8 10  1  2  1  8  2  8  1  3  2  9  3  9  1  7\n",
      " 13 10  8  2 10  2  3  2  9  2  1  8  9  1 10 13  2 13  8  9  1  2  7  9\n",
      "  8  8  8  9  8  1 10  3 10  2  1  9  5  8  2  9  5 13  9  8 13  2  3  8\n",
      " 13  1  2  8  5  2  3  5  6 13  1  5  9 13  1  6  2  3  1  6  2  1  5  9\n",
      "  1  8  9  6  1  9  6  7  3  5  1  1  2  1  3  5  6  2  1  5  5  6  2  5\n",
      "  5  2 10  6  5  2  1  9  8  2  9  5  8  6  5  9  2  5  9  3  2  8  5  8\n",
      "  5 13  1  2  5  9  1  8  9  1  2  6 13  9  3 13  5  8  6  5  6 13  1  9\n",
      " 14  5  1  2 13  3  8  1  1 13  5  1  3 13  3  6  1  3 13  2  6  3 13  2\n",
      "  1  9  6  3  1  3 13  1  1  6 13  2  5  5  2  1  5 13  1  1  2  3  1  5\n",
      "  5  8  1  9  1  1  9  5  2  3  8  1  2  6 13  8  5  2  2  1  1  2 13  1]\n",
      "Accuracy : 64.093%\n"
     ]
    }
   ],
   "source": [
    "#applying knn algorithm\n",
    "from sklearn.neighbors import KNeighborsClassifier\n",
    "model = KNeighborsClassifier(n_neighbors=3)\n",
    "classification_model(model, df,predictor_var,outcome_var)"
   ]
  },
  {
   "cell_type": "code",
   "execution_count": 33,
   "metadata": {
    "colab": {
     "base_uri": "https://localhost:8080/"
    },
    "id": "Xx6BG4vN2UHV",
    "outputId": "1d5be406-5aa6-4b96-fc3c-a2f7116edd59"
   },
   "outputs": [
    {
     "name": "stdout",
     "output_type": "stream",
     "text": [
      "[ 3  5 13  1  2  6 13  5  6  8  6  5  1  8  5  1  3  8  6  5  3  8  1  6\n",
      "  3  4  1  5  2  6  1  5  2  6  8  2  1  8 13  1  8  6  1  5  3  6  8  5\n",
      "  8  1  5  3  2  6  5  6  5  6  1  3 13  4  5  2  4 13  6  3  4 13  8  4\n",
      "  1  6  3  8 13  5  1  3  6  5  8  3  5  6 13  4  6  5 13  8  5  1 13  4\n",
      "  3  1 13  3  6  8  5  4  8 13  2  3  2  5 13  3  4  3  4  2  1 13  2  4\n",
      " 13  3  2  1  3  5  4  6  3  4  8  1  3  6  1  6  2  3  6  1  2  1  5 13\n",
      "  2  3  5  1  8 13  6  5  6  2  3  1  4  3  8  6  4  1  5  6  5  4  1  2\n",
      "  5  4  1  1  5  3  5  2  6  3 13 12  2  6  1  8 12  4  2 11  5  8 13  2\n",
      "  1  4  1 11  8  1  3  8  1  6  5  3  5  4  2  6  3 13  2  6  5  1 11  2\n",
      "  5  1 11 13  3  2  1  3 12  6 13  8  6  5  8  3  4  8 11  4  8  5  2  6\n",
      "  4 14  3  1  5  1  3  5  5 13 13  6  3  5  2  8  1  3 13  1  5  8  2  4\n",
      "  5  2  6  1  6  3  8 13  5  8  5 12  1  2  6 13  1  4 13  8  2 13  1  2\n",
      "  4 13  3  1  5  2  6  1  3  2  6  8  1  5  3  1  5  6  8  1  5 13  1  8\n",
      "  3  4  8  2  4  6  2  5  5  2  2  1  9 13  1  8  9  2  1  5  3 12  9  1\n",
      "  5  2  6 12  8  3  9  6  5  9  5  3 13  8  5  3  8  1  5  2  6  1  5 13\n",
      "  6  1  5  9 13  5  3  2  9  3  1  6  3  6  1  5  8  2  3  1  9  2  6  8\n",
      "  1 12  5  1  8  9  8 13  3  9  5  6  1  1  2  3  8  6  3 13  8  5  8  5\n",
      "  2  9  5  6  8 13  5  8  6  9  5  1  6  3  6  5  1  2  8  9  8  9  1  2\n",
      "  6  1  5  3  9  2 13  3  2  1  8  9  2  8  3  9  1  8  3  2  8  1  2  5\n",
      "  8  2  1  5  6  5  3  6  8  3  1  2 13  6  1 13  2  6  1 13  8  9  3 13\n",
      "  3  1  5  3  9  2  6  5 13  1  3  9  1  6  5  2  1  3  9  5  2  9  1  5\n",
      "  9 13  8  1  3  5  6  3  1  1  3  5  1  1  2  7  3  1  7 13  2  7  8  3\n",
      "  9  8  1  9  3 13  9  7  2  1 10 13  1  7 13  9  8  1  2 13  2 10  9  3\n",
      "  8  9  7  3  9  1 13  8  3  2  9  1  3 10  3  7 13 10  7  2  3  3  9  9\n",
      "  3  9 10  2  8  3  9  1  8 13  1  2  1  7  2  8  1  3  2  9  3  9  1  7\n",
      "  1 10  8  3 10  2  3  2  9 10  1  8  9  1 10 13 10 13  8 10  1  2  7  9\n",
      "  8 13  8 13  9  1 10  3 10  2  1  1  1  8  2  9  5 13  9  3  1  2  6  8\n",
      " 13  1  2  8  5  2  3  5  6 13  1  5  9 13  1  6  2  5  3  6  2  1  5  9\n",
      "  1  8  9  6  1  9  6  2  3  5  1  3  2  1  3  5  6  2 13  5  5  6  2  5\n",
      "  5  2 13  6  5  2  1  9  8 13  9  5  8  6  1  9  2  5  1 13  2  8  5  8\n",
      "  5 13  1  3  5 13  1  8  9  1  2  6 13  9  3 13  5  3  6  1  6 13  1  9\n",
      " 14  5  1  2 13  3  8  1  1 13  5  1  5 13  3  6  1  8 13  2  6  3  9  2\n",
      "  1  9  3 13  1  5 13  1  2  9 13  2  3  6  1  3  5 13  8  1  3 13  2  8\n",
      "  6  8  3  9  1  2  8  5  6  8  9  1  5  6  1  9  5  2 13  9  1  9 13  1]\n",
      "Accuracy : 88.358%\n"
     ]
    }
   ],
   "source": [
    "#Import Library\n",
    "from sklearn import svm\n",
    "model = svm.SVC(kernel='rbf', C=1, gamma=1) \n",
    "outcome_var=['winner']\n",
    "predictor_var = ['team1', 'team2', 'venue', 'toss_winner','city','toss_decision']\n",
    "classification_model(model, df,predictor_var,outcome_var)\n"
   ]
  },
  {
   "cell_type": "code",
   "execution_count": 34,
   "metadata": {
    "colab": {
     "base_uri": "https://localhost:8080/"
    },
    "id": "oeDfwssU2UHU",
    "outputId": "1751a95e-b8b3-4d36-857b-b2b1bd33e377"
   },
   "outputs": [
    {
     "name": "stdout",
     "output_type": "stream",
     "text": [
      "[ 3  5  6  1  2  6 13  1  6  8  6  5  1  8  5  1  3  8  6  5  3  2  1  6\n",
      "  3  4  1  5  2  6  1  5  2  6  8  2  1  8 13  1  8  3  1  5  3  6  8  5\n",
      "  8  1  5  3  2  6  5  6  5  6  1  3 13  4  5  2  4 13  6  3  4 13  8  4\n",
      "  1  6  3  8 13  5  1  3  6  5  8  3  5  6 13  4  6  5 13  8  5  1 13  4\n",
      "  3  1 13  3  6  8  5  4  8 13  2  3  2  5 13  3  4  3  4  2  1 13  2  4\n",
      "  6  3  2  1  3  5  4  6  3  4  8  1  3  6  1  6  2  3  6  1  2  1  5 13\n",
      "  2  3  5  1  8 13  6  1  6  2  3  1  4  3  8  6  4  1  5  3  5  4  1  2\n",
      "  5  4  1  1  5  3  5  2  6  3  1 12  2  6  1  8 12  4  2 11  5  8 13  2\n",
      " 11  4  1 11  8  1  3  8  1  6  5  3  5  4  2  6  3 13  2  6  5  1 11  2\n",
      "  5  1 11 13  3  2  1  3 12  5 12  8  3  5  8  3  4  8 11  4  8  5  2  6\n",
      "  4 14  3  1  5  1  3  5  1 13 12  6  3  5  2  8  1  3 13  1  5  8  2  4\n",
      "  5  2  6  1  6  3  2 13  5  3  5 12  1  2  6 12  1  4 13  8  2 13  1  2\n",
      "  4 13  3  1  5  2  6  1  3  2  6  8  1  5  3  1  5  6  8  1  5 13  1  8\n",
      "  3  4  8  2  4  1  2  5  5  2  2  1  9  6  1  8  9  2  1  5  3 12  9  1\n",
      "  5  2  6 12  8  3  9  1  5  9  5  3 13  8  5  3  8  1  5  2  6  1  5 13\n",
      "  6  1  5  9 13  5  3  2  9  3  1  6  3  6  1  5  8  2  3  1  9  2  5  8\n",
      "  1 12  5  1  8  9  8 12  3  9  5  6  1  1  2  3  8  6  3 13  8  5  8  5\n",
      "  2  9  5  6  8 13  5  8  6  9  5  1  6  3  6  5  1  2  8  9  8  9  1  2\n",
      "  6  1  5  3  9  2  6  3  2  1  8  9  2  8  3  9  1  8  3  2  8  1  2  5\n",
      "  8  2  1  5  6  5  3  6  8  3  1  2 13  6  1 13  2  6  1 13  8  9  3 13\n",
      "  3  1  5  3  9  2  6  5 13  1  3  9  1  6  5  2  1  3  9  1  2  9  1  5\n",
      "  9 13  3  1  3  5  6  3  1  1  3  5  1 10  2  7  3  1  7 13  2  7  8  3\n",
      "  9  2  1  9  3 13  9  7  2  1 10  7  1  7 13  9  8  1  2 13  2 10  9  3\n",
      "  8  9  7  3  9  1 13  8  3  2  9  1  3 10  3  7 13 10  7  2  3  3  9  9\n",
      "  3  9 10  2  8  3  9  1  8 13  1  2  1  7  2  8  1  3  2  9  3  9  1  7\n",
      "  1 10  8  3 10  2  3  2  9 10  1  8  9  1 10 13 10  7  8 10  1  2  7  9\n",
      "  2 13  8 13  9  1 10  3 10  2  1  1  1  8  2  9  5  6  9  3  1  2  6  8\n",
      " 13  1  2  8  5  2  3  5  6 13  1  5  9 13  1  6  2  5  3  6  2  1  5  9\n",
      "  1  8  9  6  1  9  6  2  3  5  1  3  2  1  3  5  3  2  1  5  5  6  2  5\n",
      "  5  2 13  6  5  2  1  9  8 13  9  5  8  6  1  9  2  5  1 13  2  8  5  8\n",
      "  5 13  1  3  5 13  1  8  9  1  2  6 13  9  3  6  5  3  6  1  6 13  1  9\n",
      " 14  5  1  2 13  3  8  1  1 13  5  1  5 13  3  6  1  8 13  2  6  3  9  2\n",
      "  1  9  3 13  1  5 13  1  2  9 13  2  3  6  1  3  5 13  8  1  3 13  2  8\n",
      "  6  8  3  9  1  2  8  5  6  8  9  1  5  6  1  9  5  2 13  9  1  9 13  1]\n",
      "Accuracy : 88.848%\n"
     ]
    }
   ],
   "source": [
    "#Decision tree algorithm\n",
    "from sklearn import tree\n",
    "model = tree.DecisionTreeClassifier(criterion='gini')\n",
    "outcome_var=['winner']\n",
    "predictor_var = ['team1', 'team2', 'venue', 'toss_winner','city','toss_decision']\n",
    "classification_model(model, df,predictor_var,outcome_var)"
   ]
  },
  {
   "cell_type": "code",
   "execution_count": 35,
   "metadata": {
    "colab": {
     "base_uri": "https://localhost:8080/"
    },
    "id": "Jo6DEkzK2UHV",
    "outputId": "7b2233a8-afb5-4ce7-c189-61953646359b"
   },
   "outputs": [
    {
     "name": "stdout",
     "output_type": "stream",
     "text": [
      "[ 3  5 13  1  2  6 13  5  6  8 14  5  1  8  5  1  3  8  6 13  3  2  1  6\n",
      "  8  4  1  5  2  6  1  5  2  6  8  2  1  8 13  1  8  3  1  5 13  6  8  5\n",
      "  8  1  5  3  2  6  5  6  5  6  1  3 13  4  5  2  4 13  6  8  4 13  8  4\n",
      "  1  6  3  8 13  5  1  8  6  5  8  3  5  6 13  4  6  5 13  8  5  1 13  4\n",
      "  3  1 13  3  6  8  5  4  8 13  2  3  2  5 13  3  4  3  4  2  1 13  2  4\n",
      " 13  3  2  1  3  5  4  6  3  4  8  1  3  6  1  6  2  3  6  1  2  1  5 13\n",
      "  2  3  5  1  8 13  6  1  6  2  3  1  4  3  8  6  4  1  5  6 13  4  1  2\n",
      "  5  4  1  1  5  3  5  2  6  3 13 12  2  6  1  8 12  4  2 11  5  8 13  2\n",
      " 11  4  1 11  8  1  3  8  1  6  5  3  5  4  2  6  3 13  2  6  5  1 11  2\n",
      "  5  1 11 13  8  2  1  3 12  6 12  8  3 13  8  3  4  8 11  4  8  5  2  6\n",
      "  4 14  3  1  5  1  3  5  5 13 12  6 13  5  2  8  1  3 13  1  5  8  2  4\n",
      "  5  2  6  1  6  3  2 13  5  3  5 12  8  2  6 12  1  4 13  8  2 13  1  2\n",
      "  4 13  8  1  5  2  6  1  3  2  6  8  1  5  3  1  5  6  8  1  5 13  1  8\n",
      "  3  4  8  2  4  6  2  5  5  2  2  1  9 13  1  8  9  2  1  5  3 12  9  1\n",
      "  5  2  6 12  8  3  9  6  5  9  5  3 13  8  5  3  8  1  5  2  6  1  5 13\n",
      "  6  8  5  9 13  5  3  2  9  8  1  6  3  6  1  5  8  2  3  1  9  2  6  8\n",
      "  1 12 13  1  8  9  8 12  3  9  5  6  1  1  2  3  8  6  3 13  8  5  8  5\n",
      "  2  9  5  6  8 13  5  8  6  9  5  1  6  3  6  5  1  2  8  9  8  9  1  2\n",
      "  6  1  5 13  9  2 13  3  2  1  8  9  2  8  3  9  1  8  3  2  8  1  2  5\n",
      "  8  2  1  5  6  5  3  6  8  3  1  2 13  6  1 13  2  6  1 13  8  9  3 13\n",
      "  3  1  5  3  9  2 14  5 13  1  3  9  1  6  5  2  1  8  9  1  2  9  1  5\n",
      "  9 13  3  1  3  5  6  3  1  1  3  5  1 10  2  7  3  1  7 13  2  7  8 13\n",
      "  9  8  1  9  3 13  9  7  2  1 10 13  1  7 13  9  8  1  2 13  2 10  9  3\n",
      "  8  9  7  3  9  1 13  8  3  2  9  1  3 10  8  7 13 10  7  2  3  3  9  9\n",
      "  3  9 10  2  8  3  9  1  8 13  9  2  1  7  2  8  1  3  2  9  3  9  1  7\n",
      "  1 10  8  3 10  2  3  2  9 10  1  8  9  1 10 13 10 13  8 10  1  2  7  9\n",
      "  8 13  8 13  9  1 10  3 10  2  1  1  1  8  2  9  5 13  9  3  1  2  6  8\n",
      " 13  1  2  8  5  2  3  5  6 13  9  5  9 13  1  6  2  5  3  6  2  1  5  9\n",
      "  1  8  9  6  1  9  6  2  3  5  1  3  2  1  3  5  6  2 13  5  5  6  2  5\n",
      "  5  2 13  6  5  2  1  9  8 13  9  5  8  6  1  9  2  5  1 13  2  8  5  8\n",
      "  5 13  1  3  5 13  1  8  9  1  2  6 13  9  3 13  5  3  6  1  6 13  1  9\n",
      " 14  5  1  2 13  3  8  1  1 13  5  1  5 13  3  6  1  8 13  2  6  3  9  2\n",
      "  1  9  3 13  1  5 13  1  2  9 13  2  3  6  1  3  5 13  8  1  3 13  2  8\n",
      "  6  8  3  9  1  2  8  5  6  8  9  1  5  6  1  9  5  2 13  9  1  9 13  1]\n",
      "Accuracy : 88.848%\n"
     ]
    }
   ],
   "source": [
    "#Random forest classifier\n",
    "model = RandomForestClassifier(n_estimators=100)\n",
    "outcome_var = ['winner']\n",
    "predictor_var = ['team1', 'team2', 'venue', 'toss_winner','city','toss_decision']\n",
    "classification_model(model, df,predictor_var,outcome_var)"
   ]
  },
  {
   "cell_type": "code",
   "execution_count": 36,
   "metadata": {
    "colab": {
     "base_uri": "https://localhost:8080/",
     "height": 391
    },
    "id": "zJXRAmq62UHW",
    "outputId": "ee9f6a8d-de58-46b7-b0b3-db160e881ea5"
   },
   "outputs": [
    {
     "data": {
      "text/html": [
       "<div>\n",
       "<style scoped>\n",
       "    .dataframe tbody tr th:only-of-type {\n",
       "        vertical-align: middle;\n",
       "    }\n",
       "\n",
       "    .dataframe tbody tr th {\n",
       "        vertical-align: top;\n",
       "    }\n",
       "\n",
       "    .dataframe thead th {\n",
       "        text-align: right;\n",
       "    }\n",
       "</style>\n",
       "<table border=\"1\" class=\"dataframe\">\n",
       "  <thead>\n",
       "    <tr style=\"text-align: right;\">\n",
       "      <th></th>\n",
       "      <th>team1</th>\n",
       "      <th>team2</th>\n",
       "      <th>city</th>\n",
       "      <th>toss_winner</th>\n",
       "      <th>venue</th>\n",
       "      <th>toss_decision</th>\n",
       "      <th>date</th>\n",
       "      <th>winner</th>\n",
       "    </tr>\n",
       "  </thead>\n",
       "  <tbody>\n",
       "    <tr>\n",
       "      <th>0</th>\n",
       "      <td>KXIP</td>\n",
       "      <td>MI</td>\n",
       "      <td>3</td>\n",
       "      <td>MI</td>\n",
       "      <td>3</td>\n",
       "      <td>0</td>\n",
       "      <td>11-Apr</td>\n",
       "      <td>MI</td>\n",
       "    </tr>\n",
       "    <tr>\n",
       "      <th>1</th>\n",
       "      <td>SRH</td>\n",
       "      <td>RR</td>\n",
       "      <td>5</td>\n",
       "      <td>RR</td>\n",
       "      <td>5</td>\n",
       "      <td>0</td>\n",
       "      <td>27-Apr</td>\n",
       "      <td>RR</td>\n",
       "    </tr>\n",
       "    <tr>\n",
       "      <th>2</th>\n",
       "      <td>KKR</td>\n",
       "      <td>MI</td>\n",
       "      <td>3</td>\n",
       "      <td>MI</td>\n",
       "      <td>3</td>\n",
       "      <td>0</td>\n",
       "      <td>5-May</td>\n",
       "      <td>MI</td>\n",
       "    </tr>\n",
       "    <tr>\n",
       "      <th>3</th>\n",
       "      <td>CSK</td>\n",
       "      <td>MI</td>\n",
       "      <td>7</td>\n",
       "      <td>CSK</td>\n",
       "      <td>7</td>\n",
       "      <td>1</td>\n",
       "      <td>7-May</td>\n",
       "      <td>MI</td>\n",
       "    </tr>\n",
       "    <tr>\n",
       "      <th>4</th>\n",
       "      <td>DC</td>\n",
       "      <td>CSK</td>\n",
       "      <td>22</td>\n",
       "      <td>CSK</td>\n",
       "      <td>24</td>\n",
       "      <td>1</td>\n",
       "      <td>10-May</td>\n",
       "      <td>CSK</td>\n",
       "    </tr>\n",
       "  </tbody>\n",
       "</table>\n",
       "</div>"
      ],
      "text/plain": [
       "  team1 team2  city toss_winner  venue  toss_decision    date winner\n",
       "0  KXIP    MI     3          MI      3              0  11-Apr     MI\n",
       "1   SRH    RR     5          RR      5              0  27-Apr     RR\n",
       "2   KKR    MI     3          MI      3              0   5-May     MI\n",
       "3   CSK    MI     7         CSK      7              1   7-May     MI\n",
       "4    DC   CSK    22         CSK     24              1  10-May    CSK"
      ]
     },
     "execution_count": 36,
     "metadata": {},
     "output_type": "execute_result"
    }
   ],
   "source": [
    "test=pd.read_csv(\"test.csv\")\n",
    "test.head(10)"
   ]
  },
  {
   "cell_type": "code",
   "execution_count": 37,
   "metadata": {
    "id": "lfLTX4qK2UHW"
   },
   "outputs": [],
   "source": [
    "test = test.drop([\"date\",\"winner\"], axis=1,inplace=False)"
   ]
  },
  {
   "cell_type": "code",
   "execution_count": 38,
   "metadata": {
    "id": "Q4PyA_Gx2UHW",
    "outputId": "808f4e05-f48e-454b-8d87-53211ebc951d"
   },
   "outputs": [
    {
     "data": {
      "text/html": [
       "<div>\n",
       "<style scoped>\n",
       "    .dataframe tbody tr th:only-of-type {\n",
       "        vertical-align: middle;\n",
       "    }\n",
       "\n",
       "    .dataframe tbody tr th {\n",
       "        vertical-align: top;\n",
       "    }\n",
       "\n",
       "    .dataframe thead th {\n",
       "        text-align: right;\n",
       "    }\n",
       "</style>\n",
       "<table border=\"1\" class=\"dataframe\">\n",
       "  <thead>\n",
       "    <tr style=\"text-align: right;\">\n",
       "      <th></th>\n",
       "      <th>team1</th>\n",
       "      <th>team2</th>\n",
       "      <th>city</th>\n",
       "      <th>toss_winner</th>\n",
       "      <th>venue</th>\n",
       "      <th>toss_decision</th>\n",
       "    </tr>\n",
       "  </thead>\n",
       "  <tbody>\n",
       "    <tr>\n",
       "      <th>0</th>\n",
       "      <td>8</td>\n",
       "      <td>1</td>\n",
       "      <td>3</td>\n",
       "      <td>1</td>\n",
       "      <td>3</td>\n",
       "      <td>0</td>\n",
       "    </tr>\n",
       "    <tr>\n",
       "      <th>1</th>\n",
       "      <td>9</td>\n",
       "      <td>6</td>\n",
       "      <td>5</td>\n",
       "      <td>6</td>\n",
       "      <td>5</td>\n",
       "      <td>0</td>\n",
       "    </tr>\n",
       "    <tr>\n",
       "      <th>2</th>\n",
       "      <td>2</td>\n",
       "      <td>1</td>\n",
       "      <td>3</td>\n",
       "      <td>1</td>\n",
       "      <td>3</td>\n",
       "      <td>0</td>\n",
       "    </tr>\n",
       "    <tr>\n",
       "      <th>3</th>\n",
       "      <td>5</td>\n",
       "      <td>1</td>\n",
       "      <td>7</td>\n",
       "      <td>5</td>\n",
       "      <td>7</td>\n",
       "      <td>1</td>\n",
       "    </tr>\n",
       "    <tr>\n",
       "      <th>4</th>\n",
       "      <td>13</td>\n",
       "      <td>5</td>\n",
       "      <td>22</td>\n",
       "      <td>5</td>\n",
       "      <td>24</td>\n",
       "      <td>1</td>\n",
       "    </tr>\n",
       "  </tbody>\n",
       "</table>\n",
       "</div>"
      ],
      "text/plain": [
       "   team1  team2  city  toss_winner  venue  toss_decision\n",
       "0      8      1     3            1      3              0\n",
       "1      9      6     5            6      5              0\n",
       "2      2      1     3            1      3              0\n",
       "3      5      1     7            5      7              1\n",
       "4     13      5    22            5     24              1"
      ]
     },
     "execution_count": 38,
     "metadata": {},
     "output_type": "execute_result"
    }
   ],
   "source": [
    "test.replace(encode, inplace=True)\n",
    "test.head(7)"
   ]
  },
  {
   "cell_type": "code",
   "execution_count": 39,
   "metadata": {
    "id": "6bm-smT92UHX"
   },
   "outputs": [],
   "source": [
    "out = model.predict(test)"
   ]
  },
  {
   "cell_type": "code",
   "execution_count": 40,
   "metadata": {
    "id": "IQ1irc5a2UHX"
   },
   "outputs": [],
   "source": [
    "predicted_winner=[]\n",
    "for i in out:\n",
    "    #print(list(dicVal.keys())[list(dicVal.values()).index(i)])\n",
    "    predicted_winner.append(list(dicVal.keys())[list(dicVal.values()).index(i)])"
   ]
  },
  {
   "cell_type": "code",
   "execution_count": 41,
   "metadata": {
    "id": "wDgZgdnb2UHX",
    "outputId": "123fd8b6-43c8-4d38-b7b0-67af2ce4e15c"
   },
   "outputs": [
    {
     "name": "stdout",
     "output_type": "stream",
     "text": [
      "4\n",
      "Accuracy of our prediction of recent IPL is  0.8\n"
     ]
    }
   ],
   "source": [
    "ipl=pd.read_csv('test.csv')\n",
    "ctr=0\n",
    "k=0\n",
    "total=len(ipl['winner'])\n",
    "for i in ipl['winner']:\n",
    "    if i==predicted_winner[k]:\n",
    "        ctr=ctr+1\n",
    "    k=k+1  \n",
    "print(ctr)\n",
    "print(\"Accuracy of our prediction of recent IPL is \", ctr/total)"
   ]
  },
  {
   "cell_type": "code",
   "execution_count": 42,
   "metadata": {
    "id": "zJMI9o1p2UHY",
    "outputId": "030e4bef-8a8e-4963-a347-41cfdf40d373"
   },
   "outputs": [
    {
     "data": {
      "text/plain": [
       "['MI', 'RR', 'MI', 'CSK', 'CSK']"
      ]
     },
     "execution_count": 42,
     "metadata": {},
     "output_type": "execute_result"
    }
   ],
   "source": [
    "predicted_winner"
   ]
  },
  {
   "cell_type": "code",
   "execution_count": 43,
   "metadata": {
    "id": "H92PEzV82UHY"
   },
   "outputs": [],
   "source": [
    "sub = pd.DataFrame()\n",
    "sub['team1'] = ipl['team1']\n",
    "sub['team2'] = ipl['team2']\n",
    "sub['venue'] = ipl['venue']\n",
    "sub['toss_winner'] =ipl['toss_winner']\n",
    "sub['city'] = ipl['city']\n",
    "sub['toss_decision'] = ipl['toss_decision']\n",
    "sub['date of match']=ipl['date']\n",
    "sub['actual_winner']=ipl[\"winner\"]\n",
    "sub['Predicted_winner'] = predicted_winner\n",
    "sub.to_csv('ipl2.csv',index=False)"
   ]
  },
  {
   "cell_type": "code",
   "execution_count": 44,
   "metadata": {
    "id": "u02_SbVF2UHZ",
    "outputId": "e8f08b75-fe03-49f5-f63c-3b6edf0f622d"
   },
   "outputs": [
    {
     "data": {
      "text/html": [
       "<div>\n",
       "<style scoped>\n",
       "    .dataframe tbody tr th:only-of-type {\n",
       "        vertical-align: middle;\n",
       "    }\n",
       "\n",
       "    .dataframe tbody tr th {\n",
       "        vertical-align: top;\n",
       "    }\n",
       "\n",
       "    .dataframe thead th {\n",
       "        text-align: right;\n",
       "    }\n",
       "</style>\n",
       "<table border=\"1\" class=\"dataframe\">\n",
       "  <thead>\n",
       "    <tr style=\"text-align: right;\">\n",
       "      <th></th>\n",
       "      <th>team1</th>\n",
       "      <th>team2</th>\n",
       "      <th>venue</th>\n",
       "      <th>toss_winner</th>\n",
       "      <th>city</th>\n",
       "      <th>toss_decision</th>\n",
       "      <th>date of match</th>\n",
       "      <th>actual_winner</th>\n",
       "      <th>Predicted_winner</th>\n",
       "    </tr>\n",
       "  </thead>\n",
       "  <tbody>\n",
       "    <tr>\n",
       "      <th>0</th>\n",
       "      <td>KXIP</td>\n",
       "      <td>MI</td>\n",
       "      <td>3</td>\n",
       "      <td>MI</td>\n",
       "      <td>3</td>\n",
       "      <td>0</td>\n",
       "      <td>11-Apr</td>\n",
       "      <td>MI</td>\n",
       "      <td>MI</td>\n",
       "    </tr>\n",
       "    <tr>\n",
       "      <th>1</th>\n",
       "      <td>SRH</td>\n",
       "      <td>RR</td>\n",
       "      <td>5</td>\n",
       "      <td>RR</td>\n",
       "      <td>5</td>\n",
       "      <td>0</td>\n",
       "      <td>27-Apr</td>\n",
       "      <td>RR</td>\n",
       "      <td>RR</td>\n",
       "    </tr>\n",
       "    <tr>\n",
       "      <th>2</th>\n",
       "      <td>KKR</td>\n",
       "      <td>MI</td>\n",
       "      <td>3</td>\n",
       "      <td>MI</td>\n",
       "      <td>3</td>\n",
       "      <td>0</td>\n",
       "      <td>5-May</td>\n",
       "      <td>MI</td>\n",
       "      <td>MI</td>\n",
       "    </tr>\n",
       "    <tr>\n",
       "      <th>3</th>\n",
       "      <td>CSK</td>\n",
       "      <td>MI</td>\n",
       "      <td>7</td>\n",
       "      <td>CSK</td>\n",
       "      <td>7</td>\n",
       "      <td>1</td>\n",
       "      <td>7-May</td>\n",
       "      <td>MI</td>\n",
       "      <td>CSK</td>\n",
       "    </tr>\n",
       "    <tr>\n",
       "      <th>4</th>\n",
       "      <td>DC</td>\n",
       "      <td>CSK</td>\n",
       "      <td>24</td>\n",
       "      <td>CSK</td>\n",
       "      <td>22</td>\n",
       "      <td>1</td>\n",
       "      <td>10-May</td>\n",
       "      <td>CSK</td>\n",
       "      <td>CSK</td>\n",
       "    </tr>\n",
       "  </tbody>\n",
       "</table>\n",
       "</div>"
      ],
      "text/plain": [
       "  team1 team2  venue toss_winner  city  toss_decision date of match  \\\n",
       "0  KXIP    MI      3          MI     3              0        11-Apr   \n",
       "1   SRH    RR      5          RR     5              0        27-Apr   \n",
       "2   KKR    MI      3          MI     3              0         5-May   \n",
       "3   CSK    MI      7         CSK     7              1         7-May   \n",
       "4    DC   CSK     24         CSK    22              1        10-May   \n",
       "\n",
       "  actual_winner Predicted_winner  \n",
       "0            MI               MI  \n",
       "1            RR               RR  \n",
       "2            MI               MI  \n",
       "3            MI              CSK  \n",
       "4           CSK              CSK  "
      ]
     },
     "execution_count": 44,
     "metadata": {},
     "output_type": "execute_result"
    }
   ],
   "source": [
    "sub.head(10)"
   ]
  },
  {
   "cell_type": "code",
   "execution_count": 45,
   "metadata": {},
   "outputs": [
    {
     "name": "stdout",
     "output_type": "stream",
     "text": [
      "41\n"
     ]
    }
   ],
   "source": [
    "print(mapping_index1.get_loc(\"Sheikh Zayed Stadium, Abu Dhabi\"))"
   ]
  },
  {
   "cell_type": "code",
   "execution_count": 46,
   "metadata": {},
   "outputs": [
    {
     "name": "stdout",
     "output_type": "stream",
     "text": [
      "26\n"
     ]
    }
   ],
   "source": [
    "print(mapping_index.get_loc(\"Abu Dhabi\"))"
   ]
  },
  {
   "cell_type": "code",
   "execution_count": 47,
   "metadata": {},
   "outputs": [
    {
     "name": "stdout",
     "output_type": "stream",
     "text": [
      "team2            0.247477\n",
      "team1            0.221606\n",
      "venue            0.172618\n",
      "toss_winner      0.165156\n",
      "city             0.157950\n",
      "toss_decision    0.035193\n",
      "dtype: float64\n"
     ]
    }
   ],
   "source": [
    "#important factors in determining winners \n",
    "imp_input = pd.Series(model.feature_importances_, index=predictor_var).sort_values(ascending=False)\n",
    "print(imp_input)"
   ]
  },
  {
   "cell_type": "code",
   "execution_count": null,
   "metadata": {},
   "outputs": [],
   "source": []
  }
 ],
 "metadata": {
  "colab": {
   "collapsed_sections": [],
   "name": "main.ipynb",
   "provenance": []
  },
  "kernelspec": {
   "display_name": "Python 3",
   "language": "python",
   "name": "python3"
  },
  "language_info": {
   "codemirror_mode": {
    "name": "ipython",
    "version": 3
   },
   "file_extension": ".py",
   "mimetype": "text/x-python",
   "name": "python",
   "nbconvert_exporter": "python",
   "pygments_lexer": "ipython3",
   "version": "3.8.5"
  }
 },
 "nbformat": 4,
 "nbformat_minor": 4
}
